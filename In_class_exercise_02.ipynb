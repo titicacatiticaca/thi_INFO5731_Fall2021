{
  "nbformat": 4,
  "nbformat_minor": 0,
  "metadata": {
    "kernelspec": {
      "display_name": "Python 3",
      "language": "python",
      "name": "python3"
    },
    "language_info": {
      "codemirror_mode": {
        "name": "ipython",
        "version": 3
      },
      "file_extension": ".py",
      "mimetype": "text/x-python",
      "name": "python",
      "nbconvert_exporter": "python",
      "pygments_lexer": "ipython3",
      "version": "3.8.5"
    },
    "colab": {
      "name": "In-class-exercise-02.ipynb",
      "provenance": [],
      "include_colab_link": true
    }
  },
  "cells": [
    {
      "cell_type": "markdown",
      "metadata": {
        "id": "view-in-github",
        "colab_type": "text"
      },
      "source": [
        "<a href=\"https://colab.research.google.com/github/titicacatiticaca/thi_INFO5731_Fall2021/blob/main/In_class_exercise_02.ipynb\" target=\"_parent\"><img src=\"https://colab.research.google.com/assets/colab-badge.svg\" alt=\"Open In Colab\"/></a>"
      ]
    },
    {
      "cell_type": "markdown",
      "metadata": {
        "id": "52XSMrpNAKse"
      },
      "source": [
        "## The third In-class-exercise (9/15/2021, 40 points in total)"
      ]
    },
    {
      "cell_type": "markdown",
      "metadata": {
        "id": "PWjAQpjDAKso"
      },
      "source": [
        "The purpose of this exercise is to understand users' information needs, then collect data from different sources for analysis."
      ]
    },
    {
      "cell_type": "markdown",
      "metadata": {
        "id": "uXQ5o6S5AKsp"
      },
      "source": [
        "Question 1 (10 points): Describe an interesting research question (or practical question) you have in mind, what kind of data should be collected to answer the question(s)? How many data needed for the analysis? The detail steps for collecting and save the data. "
      ]
    },
    {
      "cell_type": "code",
      "metadata": {
        "id": "E8AO0RSHAKsr"
      },
      "source": [
        "# Your answer here (no code for this question, write down your answer as detail as possible for the above questions):\n",
        "\n",
        "'''\n",
        "Please write you answer here:\n",
        "- I would like to do the research about how the Covid-19 impacts to small business, especial shipping industry.\n",
        "- I will to collect the daily sale / weekly sale / monthly sale data.\n",
        "- It depends on the data they have, I need atleast 1 year (Jun 2020 to Jun 2021) data for the research because I will compare the revenue during the Covid and after we got vaccine, and predict for the last 3 months of 2021.\n",
        "- I will use the BeautifulSoup library in Python to do web scraping.\n",
        "  + Download the web page containing the shipping transaction and using BeautifulSoup class to parse the page.\n",
        "  + Extracting information from the page.\n",
        "  + Combining the data into a Pandas Dataframe.\n",
        "  + Save Dataframe as csv file.\n",
        "\n",
        "'''"
      ],
      "execution_count": null,
      "outputs": []
    },
    {
      "cell_type": "markdown",
      "metadata": {
        "id": "ufCQy9-fAKsu"
      },
      "source": [
        "Question 2 (10 points): Write python code to collect 1000 reviews of a movie from IMDB (https://www.imdb.com/) or 1000 reviews of a product from Amazon (https://www.amazon.com/).\n",
        "\n",
        "As for the IMDB movie review, the following informtion need to be collected (for example: https://www.imdb.com/title/tt6751668/reviews?ref_=tt_urv):\n",
        "\n",
        "(1) User name\n",
        "\n",
        "(2) Star\n",
        "\n",
        "(3) Review title\n",
        "\n",
        "(4) Review text\n",
        "\n",
        "(5) Review posted time\n",
        "\n",
        "\n",
        "As for the Amazon product review, the following information need to be collected (for example: https://www.amazon.com/Hands-Machine-Learning-Scikit-Learn-TensorFlow/dp/1492032646/ref=sr_1_3?crid=2E3C55VKJX0K3&dchild=1&keywords=machine+learning+andrew+ng&qid=1631718619&sr=8-3):\n",
        "\n",
        "(1) User name\n",
        "\n",
        "(2) Star\n",
        "\n",
        "(3) Review title\n",
        "\n",
        "(4) Review text\n",
        "\n",
        "(5) Review posted time"
      ]
    },
    {
      "cell_type": "code",
      "metadata": {
        "id": "pOMziaB-AKsw"
      },
      "source": [
        "# You code here (Please add comments in the code):\n",
        "#import the library used to query a website\n",
        "import urllib.request\n",
        "\n",
        "#import the Beautiful soup functions to parse the data returned from the website\n",
        "from bs4 import BeautifulSoup\n",
        "\n",
        "url = \"https://www.imdb.com/title/tt0499549/reviews?sort=helpfulnessScore&dir=desc&ratingFilter=0\"\n",
        "\n",
        "#Query the website and return the html to the variable 'page'\n",
        "page = urllib.request.urlopen(url)\n",
        "\n",
        "#Parse the html in the 'page' variable, and store it in Beautiful Soup format\n",
        "soup = BeautifulSoup(page)\n"
      ],
      "execution_count": 1,
      "outputs": []
    },
    {
      "cell_type": "code",
      "metadata": {
        "id": "E-WxKIDqAb4V"
      },
      "source": [
        "def get_text_if_exists(soup, tag, tag_class=None, return_text=True):\n",
        "    if tag_class:\n",
        "        item = soup.find(tag, {\"class\":tag_class})\n",
        "    else:\n",
        "        item = soup.find(tag)\n",
        "    if item and return_text:\n",
        "        return item.text\n",
        "    elif item:\n",
        "        return item\n",
        "    return \"\""
      ],
      "execution_count": 2,
      "outputs": []
    },
    {
      "cell_type": "code",
      "metadata": {
        "colab": {
          "base_uri": "https://localhost:8080/"
        },
        "id": "sn7ZMrw3Aqe2",
        "outputId": "3beefbaf-ba6c-441e-fd46-aef84ecc5b9a"
      },
      "source": [
        "# function to scape the username\n",
        "def username(soup):\n",
        "   \n",
        "    # create a list of username\n",
        "    username_list = []\n",
        "    # find the html tag, convert to string and store to the list\n",
        "    for i in soup.find_all(\"span\", class_=\"display-name-link\"):\n",
        "       username_list.append(i.get_text())\n",
        "    return username_list\n",
        "   \n",
        "username_data = username(soup)\n",
        "username_data"
      ],
      "execution_count": 3,
      "outputs": [
        {
          "output_type": "execute_result",
          "data": {
            "text/plain": [
              "['gogoschka-1',\n",
              " 'Misagh',\n",
              " 'elchocobollo',\n",
              " 'A_Different_Drummer',\n",
              " 'cyberjedi-608-518993',\n",
              " 'benjamin-heckendorn',\n",
              " 'lionel-14',\n",
              " 'KissEnglishPasto',\n",
              " 'fnet_florent',\n",
              " 'Samiam3',\n",
              " 'myportal28',\n",
              " 'boy_in_red',\n",
              " 'spazattack-641-524103',\n",
              " 'canuck15',\n",
              " 'MorganGrodecki',\n",
              " 'PerpetuumMobile09',\n",
              " 'michaelgrantham',\n",
              " 'hunzie812-635-107716',\n",
              " 'j-burke-2',\n",
              " 'mysteryjack1',\n",
              " 'nugrahane-2',\n",
              " 'jaredpahl',\n",
              " 'DarkVulcan29',\n",
              " 'Peaches-N-Cream',\n",
              " 'hutton_mitchell']"
            ]
          },
          "metadata": {},
          "execution_count": 3
        }
      ]
    },
    {
      "cell_type": "code",
      "metadata": {
        "colab": {
          "base_uri": "https://localhost:8080/"
        },
        "id": "TjHxQVeHBEGu",
        "outputId": "4464f881-7e10-4655-b75d-4fd075141a02"
      },
      "source": [
        "# function to scape the rating\n",
        "def rating(soup):\n",
        "    \n",
        "    # create a list of rating\n",
        "    rating_list = []\n",
        "  \n",
        "    # find the html tag, convert to string and store to the list\n",
        "    for i in soup.find_all(\"span\", class_=\"rating-other-user-rating\"):\n",
        "          rating_list.append(i.get_text())\n",
        "    return rating_list \n",
        "  \n",
        "star_rating = rating(soup)\n",
        "star_rating"
      ],
      "execution_count": 4,
      "outputs": [
        {
          "output_type": "execute_result",
          "data": {
            "text/plain": [
              "['\\n\\n\\n\\n\\n\\n8/10\\n',\n",
              " '\\n\\n\\n\\n\\n\\n10/10\\n',\n",
              " '\\n\\n\\n\\n\\n\\n10/10\\n',\n",
              " '\\n\\n\\n\\n\\n\\n6/10\\n',\n",
              " '\\n\\n\\n\\n\\n\\n10/10\\n',\n",
              " '\\n\\n\\n\\n\\n\\n10/10\\n',\n",
              " '\\n\\n\\n\\n\\n\\n6/10\\n',\n",
              " '\\n\\n\\n\\n\\n\\n9/10\\n',\n",
              " '\\n\\n\\n\\n\\n\\n10/10\\n',\n",
              " '\\n\\n\\n\\n\\n\\n10/10\\n',\n",
              " '\\n\\n\\n\\n\\n\\n10/10\\n',\n",
              " '\\n\\n\\n\\n\\n\\n10/10\\n',\n",
              " '\\n\\n\\n\\n\\n\\n10/10\\n',\n",
              " '\\n\\n\\n\\n\\n\\n10/10\\n',\n",
              " '\\n\\n\\n\\n\\n\\n10/10\\n',\n",
              " '\\n\\n\\n\\n\\n\\n10/10\\n',\n",
              " '\\n\\n\\n\\n\\n\\n10/10\\n',\n",
              " '\\n\\n\\n\\n\\n\\n10/10\\n',\n",
              " '\\n\\n\\n\\n\\n\\n10/10\\n',\n",
              " '\\n\\n\\n\\n\\n\\n9/10\\n',\n",
              " '\\n\\n\\n\\n\\n\\n10/10\\n',\n",
              " '\\n\\n\\n\\n\\n\\n10/10\\n',\n",
              " '\\n\\n\\n\\n\\n\\n10/10\\n']"
            ]
          },
          "metadata": {},
          "execution_count": 4
        }
      ]
    },
    {
      "cell_type": "code",
      "metadata": {
        "colab": {
          "base_uri": "https://localhost:8080/"
        },
        "id": "CRgXuE6lBet7",
        "outputId": "af74128c-b711-4549-920c-d1a35558ae8b"
      },
      "source": [
        "# function to scape the review title\n",
        "def title(soup):\n",
        "    \n",
        "    # create a list of review title   \n",
        "    title_list = []\n",
        "  \n",
        "    # find the html tag, convert to string and store to the list\n",
        "    for i in soup.find_all(\"a\", class_=\"title\"):\n",
        "        title_list.append(i.get_text())\n",
        "    return title_list\n",
        "  \n",
        "review_title = title(soup)\n",
        "review_title"
      ],
      "execution_count": 5,
      "outputs": [
        {
          "output_type": "execute_result",
          "data": {
            "text/plain": [
              "[' AVATAR REVISITED\\n',\n",
              " ' After a decade, Cameron sets the avatar of our new generation\\n',\n",
              " ' Technically outstanding. Originality: oh well....\\n',\n",
              " ' Classic \"first release shock\"\\n',\n",
              " ' Best movie experience of the last 30 years...\\n',\n",
              " \" How could anyone who's seen more than 4 movies in their life find this creative?\\n\",\n",
              " ' Fascinating concept .Must be seen cannot be described\\n',\n",
              " ' Shock & Awe (But in a Wondrously Mysterious, Magical and Even Spiritual Sense!)\\n',\n",
              " ' Visually stunning, but ultimately unimaginative\\n',\n",
              " ' Cameron Returns\\n',\n",
              " ' Can we please just feel the Greatness of this movie?\\n',\n",
              " ' Special effects and soul\\n',\n",
              " ' Easily the best movie of 2009\\n',\n",
              " \" Escapism at it's best\\n\",\n",
              " ' Avatar - Breathtakingly Beautiful\\n',\n",
              " ' A grand cinematic experience\\n',\n",
              " ' Wow! Stunning allegorical movie\\n',\n",
              " ' A powerful slice of wow\\n',\n",
              " ' Stunning, epic cinematic experience\\n',\n",
              " ' Great Plot, Visually Stunning!\\n',\n",
              " ' A classic in the true sense\\n',\n",
              " \" Avatar is James Cameron's Magnum Opus. A Revolutionarily Immersive, Awe-Inspiring Science Fiction Epic.\\n\",\n",
              " ' James Cameron returns to his Sci-Fi roots\\n',\n",
              " \" The Most Beautiful Movie I've Ever Seen.\\n\",\n",
              " ' Avatar\\n']"
            ]
          },
          "metadata": {},
          "execution_count": 5
        }
      ]
    },
    {
      "cell_type": "code",
      "metadata": {
        "colab": {
          "base_uri": "https://localhost:8080/"
        },
        "id": "RGnXNvdNB65-",
        "outputId": "64a8c5e7-1da8-455e-921d-e833ded874cb"
      },
      "source": [
        "# function to scape the review text\n",
        "def rev_body(soup):\n",
        "  \n",
        "    # create a list of review text\n",
        "    rev_body_list = []\n",
        "  \n",
        "    # find the html tag, convert to string and store to the list\n",
        "    for i in soup.find_all(\"div\", class_=\"text show-more__control\"):\n",
        "        rev_body_list.append(i.get_text())\n",
        "    return rev_body_list\n",
        "   \n",
        "review_text = rev_body(soup)\n",
        "review_text"
      ],
      "execution_count": 6,
      "outputs": [
        {
          "output_type": "execute_result",
          "data": {
            "text/plain": [
              "['I\\'m not exactly sure when it became a thing among my tribe of film geeks to bash \\'Avatar\\'. I know it wasn\\'t when it came out, because most of the film fans in my circle of nerdy friends went to watch it multiple times and couldn\\'t get enough of it. In hindsight, I suspect it was around the time when everybody and their grandmother seemed to have seen it; somehow, once the film had become the most successful movie ever (unadjusted for inflation) it stopped being cool to like James Cameron\\'s eco-sci-fi extravaganza.Nowadays the film is often brought up in snarky movie blogs as a typical example for a film with great effects but a dull story, unoriginal ideas and bland characters, as if this were somehow the general consensus among film aficionados. \"FernGully in space\" or \"Dances With Wolves with blue cat-people\" are some of the kinder descriptions the film has to endure - which in all honesty I don\\'t get.I mean, it\\'s fine not to like the movie (all art is subjective and all that), but how so many self-professed film experts now pretend this critically acclaimed picture - which on Metacritic is rated even higher than \\'The Dark Knight\\' - was nothing but a bland, unoriginal, run-of-the-mill Hollywood blockbuster that only succeeded thanks to the (then) novelty of 3D is frankly beyond me.What I find even more astounding is how the very people who decry the lack of original, director-driven blockbusters in Hollywood are often the same who turn up their noses at \\'Avatar\\': an original, director-driven blockbuster that came out when most other big budget movies were either sequels or adaptations of already existing intellectual properties. \"The ideas in the film are not original\", they claim. Come on guys, seriously?So you\\'ve seen a world like Pandora before? A bioluminescent visual wonder that merges the colorful marine life of coral reefs with the lush vegetation of tropical rain forests? A world where nature forms an actual neural network that stores memories and builds a collective consciousness? You\\'ve seen many films about a bio-database that people can plug themselves into via ancient trees and communicate with their ancestors?You\\'ve watched countless blockbusters that take place in an eco-system where you can form instant symbiosis with other creatures depending on your needs? And by the way: how many \"eco-sci-fi\" films have you seen? Such a worn-out concept and tired old sub-genre, right?No my friends, in terms of Hollywood blockbusters, these ideas and concepts are about as original as they come, and some of them are even inspired by actual biological phenomenons (like the discovery that the roots of trees do indeed form a sort of neural network in a symbiosis with fungi where they are able to store and exchange information). But what is true is that the filmmaker cleverly chose a very straight-forward story to get his environmentalist plea and anti-colonial, anti-imperialist message across and make some rather complex sci-fi ideas more accessible for a broad audience.To that end, the film uses certain well-known story tropes (\"the spy who changes sides once he falls in love with an enemy\"; \"the soldier who realizes he\\'s been fighting for the wrong cause\"; \"the invader who gets to know and appreciate the foreign culture he\\'s invading\" or the timeless trope of \"the fish out of water\"), but they are not what the film is about. And those tropes are not copied from \\'Dances With Wolves\\' either - any more than that film stole them from \\'Pocahontas\\': they are so universal you can find variations of any one of them in numerous legends and stories and thus also throughout film history, from \\'Lawrence of Arabia\\' to \\'Shogun\\' or \\'The Last Samurai\\' and countless others.And yes, our heroes Jake and Neytiri are not the most complex of characters (though neither are they as bland as the film\\'s most vicious detractors claim), but that\\'s because they aren\\'t really the film\\'s main focus. \\'Avatar\\'s actual protagonist, its true star if you will, is Pandora. It\\'s the WORLD we get to experience through Jake\\'s eyes that really matters here, and the film aims straight for your gut - not your sci-fi nerd brain (which I suspect is the actual reason why so many former Cameron fans - now - claim to be disappointed with the film).More than anything, \\'Avatar\\' wants you to lose your heart to this beautiful planet that functions as an obvious stand-in for our own threatened world, and the film is an unapologetic, uncynical declaration of love to the wonders of nature - as well as a call to action to preserve them. Which on an emotional level works marvelously: nothing in the film is as painful and shocking as the destruction of a single big tree, which symbolizes quite literally nature as the home and shelter we depend upon. It\\'s a genius scene, and I dare you to find an action blockbuster where the distruction of a city or a whole planet carries even a shred of the emotional heft that the falling of \"Home Tree\" does in Cameron\\'s film.So again (I\\'m trying to hammer my point home here ;-), \\'Avatar\\' is simple? Yes, but that\\'s the point: the simplicity and familiarity of the story are deliberate; the themes are not just derivative re-treads, they\\'re as universal as those in myths and fairy tales and thus speak to everyone. And that\\'s exactly what Cameron\\'s intention was: to use simple enough tropes and archetypes to convey a heart-felt message that would work across cultural borders and reach people all over the world. Which, given the film\\'s success, it obviously did.Personally, I think \\'Avatar\\' is a prime example of visual and emotional storytelling done right, and viewing it for the first time offers an experience that is almost without equal in its immersiveness. And while this may only have been my own individual experience, \\'Avatar\\' was also the first movie in a long time that completely vowed me in the sense that I felt like a little kid again in the theater - which had very little to do with the novelty of 3D. It was also the last time a film managed to do that.And even in terms of pure entertainment the film is simply spectacular. It\\'s a rousing adventure with gorgeous visuals and top-notch CGI, filled with fascinating creatures and jaw-dropping future-tech, and the final 40 minutes of the film provide an all out, non-stop sci-fi action thrill-ride on a scale the world had rarely - if ever - seen before.Obviously that doesn\\'t mean it\\'s a perfect film, and as I already pointed out, it\\'s fair not to like it for any number of reasons (above all: personal taste), but \\'Avatar\\' is far from deserving the kind of snark and ridicule it gets these days. Get over it people: simple doesn\\'t equal simplistic, and the fact that \\'Avatar\\' is neither subtle nor cynical doesn\\'t make it dumb (even if it does make it harder for some of us nerds to like it wihtout feeling slightly embarassed ;-).In all honesty, I believe if this had been a slightly more obscure film - instead of the most successful movie of all time - many of the same people who hate on it now would hail it as an epic sci-fi adventure classic for the ages. And as far as I\\'m concerned, that\\'s exactly what \\'Avatar\\' is: a modern classic by a visionary filmmaker and true auteur. Rant over.',\n",
              " 'I had the rather intense privilege to view James Cameron\\'s much anticipated $400 million budget return to the directing scene, Avatar, at the Empire Leicester Square in London.Where to begin! The visuals in this pieces was groundbreaking. He did it with the Terminator series and then Titanic, so one would expect Cameron to deliver... and HE DID! The visual are by far some of the sharpest CGI I have seen. You could almost say that there is a disquiet that follows Cameron\\'s soul, as there is no other possibility of this strong and intensified quality. Its production design and visual effects are both noteworthy and it will get its praise upon official release.What it was lacking that really should have shaped the movie is its character/story. I was expecting a complex and believable plot, but was left with a movie with mostly strong visuals. What most sci-fi lovers desire is mind-bending philosophies, fantasy and exploration and limitations of our or outer species. If it was not for this factor, I would give this a 9.5 vote.Avatar will be a success, not only because of Cameron\\'s legacy, but by very intelligent and viral marketing. Avatar have had a powerful marketing technique that assembles other successful blockbusters, such as The Blair Witch project (you all remember it), The Dark Knight (Joker invades the world) and also, the current production The Artifice (the-artifice.com) that is intelligently targeting the market.Kudos to Cameron, Avatar is one of the (if not The) movie of the year. I could get in trouble for sharing this with you guys so early, so please click Yes on \"Was the above comment useful to you?\" as a thank you. ;)',\n",
              " 'Well, I just saw Avatar this morning, one of the press premieres which are running on these days. My opinion: you\\'ve seen this story a hundred times, but never like this. Finally 3D is what it\\'s supposed to be, an instrument at the service of the movie. You\\'ll enjoy the visual experience, no doubt.As for the story, some of the \"inspirations\" are so huge and so obvious that mentioning two or three of them would REALLY ruin the movie for you, and I\\'m not willing to do that. Lots of mysticism and ecology, if you like that stuff. If you\\'re 15 or so, you\\'ll have a great time thinking that it\\'s the first time somebody makes something like this. If you\\'re an experienced movie watcher, better leave your skepticism at the door, bring lots of pop corn and enjoy with the usual action-flick-with-moral-and-loads-of-clichés.I liked it, however: \"the movie that re-invents movies\"??? No way.',\n",
              " 'As a prolific reviewer here, I have on many occasions encountered what I call \"first release shock.\" Essentially a film so off-the-beaten-path, so unique, so different that, instead of appreciating it for what it is, initial viewers go into a sort of shock and become numb to what they are watching.This film is the poster child for that syndrome. On its own, it is one of the most daring, best written, best acted, best SFX\\'d, films of all time. It comes from a man (Cameron) who is known for blockbusters, but this is easily his greatest work.This film should rate a perfect score regardless of the rating system. But as explained above initial viewers did not know what to make of it. And the cost of the film became an issue for the studio when the numbers failed to meet expectations.It is not the job of the reviewer to worry about studio receipts. The job of the reviewer is identify brilliance and recommend it. See it six or seven times, it just gets better. One of the greatest films of all time and also timeless.',\n",
              " 'I was lucky to see Avatar at a pre-screening a few hours ago. It completely blew me and the whole room away and i dare to say it will do so to 80% of any audience anywhere. The remaining 20%, who always finds something to complain about, will whine about character development, dialog, story or the pop-corn.Well, let me tell you: they went to this movie with the wrong expectations.You have most likely met Cameron\\'s previous work(s): Aliens, Terminator 1 & 2, The Abyss, Titanic (!), just to name a few.So WHAT should you expect from Avatar??? MORE of the same!!! More of revolutionary film-making, more of grandiose new ideas, more of never-before-seen special effects, more of 150 minutes without relapsing, more of the James Cameron genius...I am very happy that the trailers didn\\'t give the full story away. Lots of emotions are waiting for the viewer, laughter and tears also. Cameron was very smart keeping the teasers as teasers, nothing more... as the full movie will take your breath away.You will practically not notice that you are watching a non-existing world, it is sooo real. Attention to detail is superb. You computer geeks will know what I am talking about. This move was not rushed in the making. No wonder it could not have been done before - not having the proper computing power.The wild life, the jungle, the animals, the Na\\'vi-s, or the dragon-like flying creatures are all so life-like, they almost pop-off the screen (and in 3D they actually do :) .The sound effects were so well done, that when I saw at the credits that Skywalker Sound was behind it, i could only think of \"yessss... now THAT makes sense.\"Cameron is a visionaire - and again, he delivers, with full blast.A certain character says in the movie that Pandora (the planet where the story takes place) became his real world. My advice to you: let Pandora become YOUR real world for two and a half hours, let it make you completely forget about your life and problems, let it entertain you, move you, let it carry you away.Because THAT is what i expect as an exchange for my ticket.And a few hours ago i got tens of tickets worth of that.',\n",
              " 'Let me preface this by saying I am a huge James Cameron fan. I think \"Terminator\" is a masterpiece of sci-fi and the single best edited film of all time, \"Aliens\" is easily the best sequel not from the original director and I personally like it a lot more than the original. \"Abyss\" created an interesting world and was racked with tension, \"Terminator 2\" is an action tour-de-force and has what I believe the best sound editing/design of all time, \"True Lies\" is goofy fun, more poignant than most give it credit for with a boffo ending, and finally \"Titanic\" was far better than anyone expected it to be and has one of the most believable romances in a movie.So then there was the 12 year wait for \"Avatar\". No reviews, word of mouth, ticket price or natural disaster would keep me from the midnight IMAX 3D screening. I went with moderate expectations, which the film matched exactly. While this kept me from being disappointed it wasn\\'t a good thing.Movie fans were on edge because if \"Avatar\" flops, it\\'ll mean the death of creativity in a remake-happy Hollywood. That\\'s a valid concern but the problem is nothing in \"Avatar\" is creative whatsoever. It is literally \"Dances with Wolves\" in space, right down to having a \"Wind in his Hair\" character as a foil to the \"new guy\".As the movie progressed it caused the worst of all bad reactions for me as a viewer - I started thinking about other things. Then I kept thinking \"well the end battle is supposed to be awesome\".SPOILER WARNING! (if for some reason you can\\'t guess how this movie ends) End battle comes and the movie switches from being \"Dances with Wolves\" to Disney\\'s \"Atlantis\" (but that\\'s unfair since both of those movies contained far, FAR better musical scores) Gunship windows that were impervious to arrows a few scenes ago (to show Na\\'vi desperation) suddenly become brittle and break easily (to show Na\\'vi heroism). The battle isn\\'t nearly as long as you\\'d expect, and nowhere near as epic / engaging as the finale of Return of the King. Finally there\\'s a Robo-suit vs Navi fight and it is admittedly pretty good. Unlike 95% of directors these days Cameron knows enough to pull the camera back and let us SEE the fight. However it\\'s an odd choice to spend millions on 10 foot tall \"creatures\" and then rarely even have them in the same frame as humans.And of course there\\'s the obligatory scene where characters are dying in slow motion as Middle Eastern vocal music plays (see Gladiator or Munich) Wouldn\\'t have been so bad if I hadn\\'t said to my friend on the way there \"How much you wanna bet there\\'s a part where characters die in slow motion over Middle Eastern music?\"As with most movies these days \"Avatar\" is far too long, glossing over important details (why is Earth dying, what does Unobtainium do, etc) and instead spending time on flight scenes, mystic ceremonies, spirit trees and nature bonding.Ultimately I just did not care. Since the dawn of cinema Hollywood recycles old ideas every few decades and slaps on a bigger budget / new stars / better effects so you won\\'t notice. I can see re-doing \"Ben Hur\" with color and sound, but why do we need \"Dances with Wolves\" with 20 times the budget and blue Native Americans? No amount of impressive visuals, robo-suits, gunship battles, perfect character CGI or Sigorney Weaver can change the fact that I\\'ve seen this movie 100 times before. I could even accept the weak story if there were any characters to give a rat\\'s ass about. This film is also dreadfully humorless, a stark contrast to \"Titanic\" where humor was one of its many surprises.Regarding 3D... I\\'ve seen many films in it now and honestly you don\\'t even notice after the few minutes. It doesn\\'t make the money any better or worse, just more expensive.Citizen Kane, The Robe, Sound of Music, Jaws, Star Wars, Batman, Toy Story, The Matrix... these movies changed movies. We can say that looking back now. \"Avatar\" saying it would ahead of time is pure hubris, \"unsinkable Titanic\"-like poppycock.But if expensive motion-capture being used to cover up a weak, generic story is the future of cinema then count me out, I\\'ll stick with my PS3.',\n",
              " \"I saw this epic last night at the Empire Leicester Sq in London, which is a superb venue in which to view this film. Huge screen, excellent sound and an extraordinary Dolby, 3 dimensional image. The whole effect is mind blowing.This is a 'Must see' movie, innovative, and extraordinary. I think it will be regarded by most cinema goers as another milestone in the history of the art. The level of realism achieved is remarkable, and although the film is relatively long in real time, it retains it's excitement and holds the audience's attention to the end.Performances are good, but this is not the sort of film that dwells on big star value for the actors, although Sigorney Weaver does shine and delivers a very convincing performance, as do the rest of the cast. But as there is so much entertainment and action value on screen the human element does not dominate in the usual way.As Writer/Director, James Cameron deserves high praise for this creation and in my opinion it will break box office records. I thoroughly enjoyed this film.\",\n",
              " 'From PASTO, COLOMBIA-Via: L. A. CA; CALI, COLOMBIA+ORLANDO, FL\\n----------------The ONLY Tony Kiss Castillo on FaceBook!-------------There have been only about a score or so of films that have transcended being simply a movie and, because of their unprecedented impact upon many millions of viewers, have contributed to our culture, becoming part of it, and more recently, to that of the entire world.After being 62nd birthday-treated to AVATAR in IMAX 3-D by my wife, I state, for the record, it is an incomparable voyage, a magical mystery tour experience, to a poignant culture-clash on an enchanted world most distant both in time and spaceA movie it is not! Visionary James Cameron has created, crafted and orchestrated a labor of love for the ages.At long last, CGI has come of age, finding in AVATAR a vehicle capable of demonstrating the awesome splendor of its true potential. We are transported to an intricately designed world, complete with a Neolithic race of aliens, rich with culture and traditions, speaking its own uniquely linguistically engineered on-screen language (A Cinema First) As for the \"It\\'s Anti- American!\" grumblings:1) The troops were not even U. S., they were corporate hired guns!2) Life isn\\'t about winning or losing battles: It\\'s about living in harmony with one\\'s environmentAt least that\\'s how I saw it.Wow! Talk about nefarious agendas!In the opening seconds, James Cameron seems to pay tribute to both 2001 and Star Wars. Some reviewers have mentioned a similitude to Pocahontas. There were different moments that conjured up memories of story threads from many different films, but thematically, Dances With Wolves was, perhaps, closest. However, a straight up comparison to any other film does not do AVATAR justice. It is totally in a league of its own.Every aspect of AVATAR is practically hyperbole-proof. Just look at the plethora of gushing reviews. Yet, amazingly, there are some 2*, even 1* ratings! Honestly, I can\\'t fathom how anyone who has ventured more than 100 miles from their place of birth could rate it less than 5*. (The word Provincial keeps popping into my head!) Closing words: The only film in my life that raised the cinematic bar more was Stanley Kubrick\\'s 2001: A Space Odyssey(1968)Don\\'t just see AVATARExperience it! 10*.... ENJOY/DISFRUTELA!Any comments, questions or observations, in English o en Español, are most welcome!.....KissEnglishPasto@Yahoo.com.',\n",
              " 'First of all, let me get it out of the way: yes, Avatar is visually stunning. With better scenario and dialogs, it could have been a very good movie; alas, it was completely predictable, and fancy special effects alone do not make a good movie.Let\\'s start with the picture. As I said before, the special effects and computer animation are really good; the textures feel very real, and the degrees of liberty that CGI animation allows in terms of camera angles and movement is well used for dramatic effects. The luxurious vegetation of the forest and the CGI-animated wild animals are a treat to the eyes. In terms of artwork, there is a definite influence from Nausicaa (the forest-world, the spores) and Starcraft (the vessels, the goliaths). I saw the movie in an IMAX movie with 3D glasses, but I am not convinced that they used the full potential of it - quite honestly, the Haribo commercial before the movie made a better use of it. I find it more strenuous to watch a movie with the 3D-glasses - some details are blurry, and it feels likewise when the camera makes swift lateral movements.Now, the scenario - the movie disappoints in that area. The plot is very Manichean, and it feels like a remake of Pocahontas, interspersed with elements from / tributes to Star Wars (Pandora and the Na\\'vi look like Endor and the Ewoks respectively), Nausicaa (the forest as an entity, the destructive impact of civilization on nature, the spores in the forest), Starcraft (Colonel Quarritch and Dr Augustine bear some resemblance with Arcturus Mensk and Sarah Kerrigan), Matrix (the concept of controlling another image of self), and maybe even Independence Day (the pilot fighter suicide) and the Lion King (the father\\'s death, \"go, and never come back!\", ... am I going to far here?). But I can honestly say that I haven\\'t been surprised at any point in the movie. You know from the beginning that he will be accepted by the Na\\'vi, that he will fall in love, that he will defect, that he will ultimately prevail after suffering some heavy casualties, and that he will find a way to permanently transfer his mind into the body of his avatar.It would have been interesting if the movie had dealt in more depth with the issues related to transferring one\\'s mind into another body for instance, maybe a la Twelve Monkeys Army, where the \"hero\" is clearly deeply affected by experiences that the mind is not used to deal with (time travel in that case, but it is not that different from what we have here). Likewise, the love interest of our hero seems very indifferent to the fact that he really is a human remotely controlling a human - Na\\'vi bastard. I was expecting someone (him, her, or even one of the other humans in the scientific group) to show at least some kind of surprise / doubt when these feelings emerge. I was expecting more complexity in the social interactions of the characters, and their personality.I also take issues with some big stereotypes: corporations and the white men are greedy, indigenous people are pure, brave, and connected to the earth, but dumb - thankfully there is a human to teach them how to fight those who come from the sky. To some extent, the movie feels like a remake of the colonization of the Americas; just replace the Na\\'vis by native Americans, the aircrafts by ships, and modern weapons by muskets, and you have it. Except of course the colonization of the Americas did not have such a happy ending for the native tribes.On the whole, the movie is beautiful, but it feels like the main goal was to showcase fancy special effects. The movie would have benefited from more detailed characters, and a less linear and predictable plot. My rating is 6/10.',\n",
              " \"Nobody directs like James Cameron. Ten years in the works, and every minute was worth it. It is the Star Wars of the 21st century. Though the plot is derivative and bears some pretty close resemblance to Dances with Wolves and a little bit of The Last Samurai, it does not ruin a mind-blowing experience. Avatar has a great future ahead of it and, possibly another Oscar for the mighty James Cameron. Jake Sully, is an ex-marine, bound to a wheel chair. He seeks to make a fresh start on the moon Pandora where his brother worked. The moon has a military run mining colony. The business has brought humans into contact with the local natives, tall blue dudes, called Na'vi. The Na'vi inhabit a part of the moon under which lies a large deposit of valuable minerals, and the humans are trying to get them to relocate. Colonel Quarich who runs the operation, ask Sully to go under cover as a Na'vi, to learn the secrets, to give the humans an advantage. If successful, Sully will get his legs back. The magic of future science and 3-D effects give Sully a handsome genetically engineered Avatar body, and he embarks on his mission. Once on the inside however, his loyalties to the humans start to turn when his heart gets lost to the Na'vi princess Neytiri. Is he willing to fight on the blue side now?The landscape of Pandora is the most creative and inventive of the decade. There are creatures that you might find in your wildest dreams or your worst nightmares. There is flora and fauna that shine with the bioluminescence of a thousand deep sea critters, and also trees which dwarf the Empire State Building.I guess the only noticeable problem with Avatar, is a lack of original story. What you see on the screen will blow you away, but all the tough critics, may come down a bit on the fact that despite being the latest in film technology, Cameron uses a very old archetypal formula, perhaps just a bit too schematic. There are a few badly scripted segments of dialogue, but nothing that makes you wanna blow raspberries at the screen.What is most important is the fact that Cameron's story gets the viewer involved and offers a handful of memorable and likable characters to root for, and some to root against. This is the post- modern era, and originality is rare, but if there is any technical progress to be made in the world of movies and entertainment, there is one name that dwarfs all JAMES CAMERON, and after ten years hiding from the Hollywood mainstream, he is back.\",\n",
              " 'Experiencing this movie, in Imax 3-D, was simply the best movie experience I have ever had. It is great that there is a lot to say about movies but this should be the fist and most important thing. What did the experience of watching evoke in you? I start this way because I have been reading very much about this movie and I have heard so many perspectives on it that I almost lost the direct feeling of it. Moreover the fact that It is being spoken about so much is to me another indication that this is an important and intriguing film. Of course attention in itself it not an indication of value, but it becomes apparent soon that the discussion is very widespread and represents many views that already are inherent to our society itself. As soon as this criterium is not met we should be aware what this movie is trying to do with us or with a certain group of people. From my point of view such a discussion is not going on and what is going on is a fair and multiperspectival approach to a deeply intriguing and moving cinematic masterpiece (even though the last word of this sentence is a bit more personal).Having said all that what is left now is for me to present my contribution to the ongoing dialogue. As one might have guessed I am very positive about the movie and not only because it was a great experience in a 3-D movie theater. This movie clearly has a message that our world needs. The consciousness that wants to aggressively dominate and control the world around itself for the purpose of profit regardless of the consequences for the world of nature, life and living beings is being defeated in here. And it is defeated by the conscious choice of beings living by natural law, by other beings abiding the ways of the spirit of the planet and by the very command of this planetary spiritual will itself. As such this storyline is a simplified but direct representation of processes playing out on the face of earth nowadays where the aggressive military-industrial (american) way of control and manipulation is being defeated by conscious processes on various levels of existence.My wholehearted thank goes to James Cameron and his crew for this fantastic tale of life, love, victory and hope. Thank you for creating this and good luck with all future endeavours (which I am looking forward to).',\n",
              " \"2009 has been a year of soulless special effects films- Transformers 2, and GI Joe come to mind in particular. Military-centric and lacking in anything resembling a real character, it depressed me to find such emotionally cold film-making was making so much money.James Cameron is the remedy.As a director, he has often very successfully managed to balance intriguing and exciting film premises with human elements that made you care for characters- he has an amazing way of making you invest in the people he created.But Avatar, for me, represents a more mature James Cameron. In Aliens and True Lies Cameron, much like the Michael Bays of today, had a boyish fascination with weaponry and the technology of war. Now James Cameron, the man, expresses his disgust at these objects. This is NOT a worship of firepower- it is a damning indictment of it.Avatar has a story that acts as analogy for many things- colonialism, America's supposed war on terror, labelling Palestine's resistance fighters as terrorists, the human desire for profit vs the human need for environmental preservation. It is very much a product of our time, and it is hugely passionate in its execution. In my mind Avatar represents Cameron's rage.More that this, when we hear the horrified and angry screams of an invaded population, we hear our own frustration. The film had me in tears at some points, because of the clarity and resonance of its message.The film is not all doom and gloom- it is inspiring also. It demonstrates there exist universal principles that transcend race or allegiance of country, it celebrates spirituality, and abhors the arrogance of men and their guns. There were moments when the film gave me goosebumps.Please see this film if it feels like the world around you doesn't always show the humanity you feel it should, if you don't understand why people's lives are so expendable in the pursuit of oil, land or empty victory. It is a strangely validating experience to find so many of your feelings so poetically reflected. Thank you Mr Cameron.\",\n",
              " \"This movie is perhaps one of the most spectacular I have ever seen. Throughout all three hours or so, I was held spellbound by the scenery, action, and storyline of James Cameron's dream. I do not think I glanced at my watch once throughout it, and I can honestly say that I didn't want it to end.First: the visual effects were absolutely stunning. James Cameron did not just create a world; he created an entire ecosystem that could be plausible if we didn't know better. The first time the Na'vi were seen, the person I was with leaned over and asked me if they were costumes or special effects, they were that real. The Hallelujah Mountains looked amazing, and the wildlife, although it would be frightening in real life, was just stunning.Second: the themes were great. Although stone-hearted critics (like the ones on here who gave it a 1/10) may argue that it was unoriginal and a direct copy of other movies, there are very few movies coming out nowadays that you couldn't say that about. I noted themes in this from several different movies, the most prominent being Dances with Wolves, but that wasn't the only one. It also took a theme out of real life: people destroying the environment for such petty things as money. The reality of it is one of the most disturbing things in that film.Third: the storyline was great. It does have similarities to Dances with Wolves, but there was so much more to it than that that you really could not say they were the same thing. Dances with Wolves did not go into the training nearly as much as this did. There are several others, but I won't name them all.Basically, this film is about as epic as you can get, and shame on all of you who think it was bad because it took themes from other movies and enhanced them. You will never find a movie that doesn't.\",\n",
              " 'Just go! The people who made this movie, most of which are just average working people making a normal salary deserve it for what they have created. This movie accomplishes what most people go to movies for. To escape from reality for a little while.Not only is this what I consider a milestone in the evolution of state of the art movie making, it\\'s a good story with a simple message.A bit annoyed at some of the criticisms. I don\\'t see anything political in the metaphorical message this movie presents. If Republicans hate the idea that getting close to nature is good and war is bad then too bad so sad for them! There is only 1 directly political reference to Bush. That is when the military offensive is referred to as a \"shock and awe\" campaign. If people are going to get their panties in a bunch over that then again, sucks to be them! Also don\\'t understand the criticisms about the similarity to Dances with Wolves. Dances with Wolves was not a unique idea. Modern society has been screwing over aboriginals for centuries. What is so bad in pointing that out once in awhile in a way that most people can relate to? By seeing it through the eyes of someone from this modern world.I loved every minute of this movie. There were a couple tiny teeny little things in the dialog I would have done differently but no matter how you slice it, this is a masterpiece!',\n",
              " 'When movies are created, they are done so with intent. Different genres of film target specific audiences, a formula which has sustained Hollywood and it\\'s industries since the beginning of the blockbuster movies. When a movie is created in a manner that sets in motion any given goal, said films success is pendant on whether or not that goal is reached. If a comedy creates laughter, or if a romance produces tears, then they are successes in their own right. So when a massively ambitious, seemingly impossible to create film aiming to usher in a new era manages to grab hold of it\\'s audience and take them on an unprecedented cinematic roller coaster ride that delivers the goods every turn of the way, it can be considered successful. Avatar is that success.A work in progress that spanned a decade and a half, Avatar is more than just a film - it\\'s an experience, an event. When James Cameron set out to make this movie back in the mid 90\\'s, he realized that his ambitions were simply too far ahead of their time. His ideas could not be reached in a feasible manner, and due to this, he had to wait. Or create. Once informed that the image he held for this film was one that was out of grasp, he began working on the technology that would bring his masterpiece within reach. Fifteen years and nearly half a billion dollars later, James Cameron has brought that vision to the screen, and has done so in an extravagant and showstopping way.Avatar tells the tale of a war between species, each fighting for the ultimate survival of their race. Desperate to find the fuel for their dying planet, human soldiers and scientists set out from earth and set course for Pandora. A planet connected by all living things, Pandora is home to an indigenous species known as the Na\\'vi, as well as the precious element Unobtanium needed to save earth. Using transference technology, paralyzed marine Jake Sully is volunteered for the \"Avatar Program\", which enables the thoughts and mind of a human to be placed within the shell of a tube-born Na\\'vi body. Using this as technique to their advantage, Jake is sent into the harsh Jungles of Pandora in order to bond with the natives, thus gaining knowledge and insight on their ways. Having originally planned to use this knowledge as a means of negotiating the natives relocation, so that the humans can access the deposit of Unobtainium - which just happens to sit below their most worshiped and valued pseudo-deity of their planet.While the plot on paper may read as a standard shoot\\'em-up action sci-fi flick, it is a near inconceivable task to truly explain how incorrect this appearance truly is. This takes a stroke from every movie, and a dab from every genre, and manages to create a portrait of beauty, in which all pre-existing notion of what cinema can and cannot do is destroyed. Within the lengthy hundred and sixty some odd minutes of film, moviegoers will find that there is always something to keep them enthralled, a merciful gift when considering how tedious many of the longer film of recent memory can become.No matter what can be said about the overtly cheesy script,a criticism that, while holding true, manages to fit charmingly into the over-the-top nature of the film, Avatar does as it set out to do, bringing moviegoers a cinematic experience rather than a film. Relying on the technology that he created, Cameron pours his heart into this movie, and it shows in every scene. Ranging from the absurdly detailed creatures to all-too-realistic planet, this flick manages to tell a fulfilling story while all the while throwing jaw-dropping scenery at the audience, giving them only enough time to recover before bombarding them with yet another breathtaking shot.Be it the fantastical and charming love story told between the native and the outsider, or the too-real-to-be-true action scenes between gunships and foreign ferals, Avatar is what Star Wars was too the 70\\'s, the Wizard Of Oz of the 40\\'s - a masterpiece that will go down in movie history as a game changer of it\\'s time.4 Stars out of 4 Stars',\n",
              " \"AVATAR is one of the few films in recent years that I've really looked forward to. Given Cameron's solid track-record when it comes to sci-fi/action-films, there was no doubt in my mind that this film would be good, even though it's been 12 years since his last feature film. The only question in my mind was whether the film would be great or merely good. Fortunately, it turned out to be the former.I'll start by mentioning a few things that I really liked about the film, and areas in which I feel it succeeded very well: The characters: Cameron invests enough time in his characters so that the viewer actually care about them when the going gets tough later on in the film. Most action-directors put too much emphasis on the action and fail to involve the audience on an emotional level: You couldn't care less what happens to the main characters and the feeling of genuine suspense is severely undermined. AVATAR is an action/adventure film with a heart.The CG (primarily by WETA Digital) looks great, especially when it comes to organic objects, such as plants and the blue humanoid-looking natives. The great attention to detail makes a significant difference in terms of photorealism. The natives move and express themselves in a very convincing, natural manner. Mocap (*) has been used for many years, but this is one of the few films in which the movements (both body and face) look completely realistic. AVATAR sets a new milestone when it comes to photorealistic characters. I was also very impressed by the seamless integration of CG and live shots, and the CG explosions: The explosions were actually created using fluid simulations which made them look very realistic (the normal approach is to use live shots of real explosions, composited on top of CG elements).The directing: With AVATAR, Cameron demonstrates why I consider him one of the best action directors in modern cinema. The long finale, in particular, is one of the best action-sequences I've ever seen. It's dynamic, intense and exhilarating to watch. The rhythm and pacing is spot on. Cameron also slowly builds the film to its finale, and this makes the action-sequences even more rewarding (because the buildup serves as 'foreplay' and creates anticipation).Other things that I liked: The beautiful cinematography and the interesting, underlying themes related to imperialism and the environment. It makes you think a bit after you leave the theatre, and it adds a bit of extra depth and meaning to the film. This is more than you can expect from a typical film in this genre nowadays.It's hard to pick things that I didn't like about the film, because there was nothing that really bothered me. If I had to mention one thing that I was hoping would be better, then it would be James Horner's score. It didn't seem as prominent or memorable as it should've been. Its impact on the overall movie experience was much smaller compared to his score for films such as TITANIC, ALIENS or BRAVEHEART. I'm not saying the score is bad, far from it, it just lacked that little extra.Some people have complained about the simple plot and predictable ending. I personally didn't have any issues with the plot, and I must admit that I don't really understand those who get too obsessed with spotting plot holes and logical problems. First of all, it's not really the story itself that matters, its the way it's told, because film is primarily an audiovisual medium. Cameron's films are simply structured in general and they're easy to follow. But he makes things interesting and engaging to watch because of his storytelling skills. Although the film lasts for over 2,5 hours, I never felt there was a dull moment. Cameron sucked me into the film from the get go and he didn't loosen his grip until the end-credits started to roll.I've seen both the 3D and 2D version. Some people clearly prefer the 3D version, but I didn't feel that I lost anything substantial when I saw the 2D version. Cameron doesn't make the mistake of trying to use 3D as a cheap gimmick, and the use of 3D effects isn't exaggerated. The 3D effect is impressive, though, and the technology has obviously improved significantly in recent years. After a few minutes into the film I almost forgot that I was wearing the glasses: They were comfortable and they didn't cause dizziness.AVATAR is a visual tour de force that really needs be seen on the big screen in order to be appreciated fully. Don't wait until the DVD or Blu-Ray is released: The experience simply won't be the same, unless you have a big, high-end home-theatre.(*) Motion capture: Technology used to capture the actors's performances, so that they can be reproduced by their CG characters.\",\n",
              " \"Avatar is, as you will have seen from other reviews, probably the most visually stunning movie ever made. The scenes of the beauty of Pandora will knock you out! Watching the movie it was very easy to forget (and I did) that the characters were CGI creatures, so real were they implemented. The beauty of the film is contrasted with the gung ho American marines and the greed of the mining company trying to exploit the natural resources of Pandora, without in any way understanding its beauty or the close bond felt by the Pandorans to their environment and the other life on the planet.The plot of the film is excellent and the soundtrack superb, frequently making you jump with unexpected highly realistic sounds.The best film I have seen in a very long time, way up there with the Lord of the Rings, my previous favourite film (and story) of all time.I felt that the Director was trying to say something about man in this film, on the one hand able to be noble and capable of creating stunning beauty (just see the visuals in this film) and the contrasting violence, greed and stupidity that we can show. God knows what will happen if and when we do meet aliens, they will probably be shot to pieces before we can ever learn anything about them! In summary, don't hesitate to see this film, I defy you not to be enthralled in the stunning beauty of Pandora and the superb story.\",\n",
              " '*** This review may contain spoilers *** I went into the theatre unsure of what to expect, having read a mix of rave reviews and critical maulings. I walked out nothing short of blown away. As a big budget and big effects blockbuster, Avatar delivers and then some. Great action, spectacular effects and stunning visuals of scenery, communities and machines. I also loved the many subtle touches afforded by the 3D rendering that lent an added sense of realism to the imaginary jungle on Pandora.As a story, Avatar excels. Yes, it has the formulaic qualities expected of an action-fuelled Blockbuster ... extraordinary hero, super amazing daring stunts, love story, conflict, a point of self-awareness in which defining decisions must be made, and that feel-good sense of \"YES!!\" as the story lines resolve themselves and the baddies get their just deserts. Yes, these Hollywoody elements are improbable. But it\\'s a fantasy sci fi, and fantasy is improbable by definition. However, as expected of James Cameron, there is so much more for those who wish to engage below the surface as he revisits his theme of man\\'s preoccupation with technology.In the Terminator movies, Cameron ably provided us with a retelling of the old Hebrew Golem tale. Avatar poignantly examines the west\\'s longstanding habit of treating technologically-driven military superiority as superior cultural worth. Here, Cameron references the west\\'s realistic historical tendency to use this ideological devaluing of cultures it labels \"primitive\" as an excuse to behave like savages towards them. However, this movie is not a commentary on the past, but of America\\'s recent continuation of such spiritually devoid behaviour. In doing so, he draws an unavoidable parallel ... if the invasion and destruction of cultures for profit was arrogant and evil in the past, as most of us agree these were, then how can exactly the same kind of ideologically-driven, pre-emptive invasion of countries to gain control of their valuable natural resources be any less so today? Whether one agrees with Cameron\\'s condemnation of neo-conservative policies or not, one function of art is to force us to ask questions about our state of humanity. And in this sense, Avatar functions very well as a work of narrative art.I feel compelled to comment on some of the criticisms I have read. They seem to wholly overlook this underlying message of the story, as though these critics somehow never looked past the 3D effects. As a PhD student, I\\'ve observed often enough that those who assume themselves to be the smartest person in the room tend not to be, and the smartest people in the room tend to assume that everyone is just as intelligent as they are. As a movie buff, I\\'m all to aware of those that dismiss any blockbuster as brainless based on their own self-ascribed intellectual superiority. The criticisms I\\'ve read adhere to these ideas. The critics, few though they thankfully seem to be, seem to be so busy patting themselves on the back over how clever they are that they\\'ve failed to be at all intelligent.Quite simply, this is a superb movie, visually and contextually. If you love blockbusters, go see this movie. If you love intelligent movies, give this one a chance and judge it by your own standards and movie-going tastes.',\n",
              " 'Without a doubt, this was the single most amazing display of movie making that I or my family have ever watched. For all of you out there criticizing this movie because of the cartoonish characitures, or the simplistic plot, or the liberal pontification; you are completely missing the boat. You literally cannot see the forest for the trees.I will admit, entering the movie I was trepidatious over the reported 3 hour running time, but the movie flew by quicker than many 90 minute yawners. We will be going to see it again in a couple of weeks.The cool factor was off the charts. The visual stimulation from seeing it in 3D was something I\\'d never experienced at the movies before. The movie enveloped me and washed over me. I felt as though I was on Pandora. Incredible.Yes the imperialists were cartoonish, but they often are in real life too. The plot was simple, but that simplicity enable the viewer to focus on everything else that was going on.The word I kept repeating for hours afterwards was \"Amazing\". This is the first movie that I\\'ve given a \"10\" rating on my vote.My wife and my 11 year old son agree, you absolutely owe it to yourself to go see this movie. You won\\'t be sorry you did.',\n",
              " \"I was not sure I would like this film. I really did not like Titanic, mainly because it's not my kind of film, so I wasn't sure if I'd like Avatar. I went to see it because people were saying that it had the better CGI than any other film, and it had five-star reviews all over the papers.I loved it! The film was action packed from start to finish! I do admit that only the very smart will get the plot at first, but everyone will have it by at least the middle. I hardly even noticed that the film was almost three hours!The planet Pandora is visually stunning. The plants are incredible, they light up, they move, some near the beginning even shrink! The Nawis, the natives to Pandora, are very life-like, I never even knew that they were computer generated!The action scenes (not giving any spoilers) are just fantastic! Everything is so realistic, the planes are realistic, the floating mountains are realistic, and the sound literally blows you away.The actors are very good, especially Sigourney Weaver. But if you have a young child, do not allow them to watch this. There is a minor bit of swearing, tons of blood violence and very loud sound. Overall, the film is just fantastic! You have to see this movie, as it is by far the most stunning film of the decade!\",\n",
              " 'I was a bit hesitant to write a review after my first viewing of Avatar. But now after my third viewing, I am not shy in declaring that this movie will become a classic and remembered for its groundbreaking vista for as long time. We have become used to \"production\" movies coming out of assembly lines from Hollywood, Bollywood, Asian and European movie houses that we almost forgot how wonderful a cinematic experience can be. Sure, there may have been other movies this year with \"more quirky\", \"more original\" stories but as a whole, Avatar is by far the best movie this year and in the top ten of best movie this decade. A classic is by definition something that you can enjoy as much if not more in the second, third, fourth viewing, and Avatar is definitely it. I don\\'t understand the critic that this film lack story and emotion because it has all of it, even if a bit on the cliché side.',\n",
              " 'James Cameron is a force of nature. His movies have an all-encompassing, ambient power of their own. The kind of power that makes a James Cameron movie a bigger deal than everything else. Avatar is his biggest yet. Every Cameron trope is out in full force: Bad-ass chicks, space marines, over-the-top action, and a sweeping love story. Avatar is in many ways an amalgamation of everything that makes James Cameron a unique voice in Hollywood. Elements of Terminator, Aliens, The Abyss, True Lies, and Titanic are distilled here into a visionary masterwork of classic epic filmmaking and cutting-edge technology.Avatar\\'s ambitious story follows Jake Sully (Sam Worthington) as he travels to the rainforest planet of Pandora to replace his late brother in the Avatar program, which allows certain humans to inhabit a body that resembles that of Pandora\\'s native humanoids, the Na\\'vi. The leader of the program, Grace Augustine (Sigourney Weaver), hopes to use avatars to peacefully interact with the natives. Meanwhile, others, including the greedy CEO, Parker Selfridge (Giovanni Ribisi) and the military leader, Miles Quaritch (Stephen Lang) look to exploit the Na\\'vi for a precious resource called unobtanium. Jake Sully is caught between these two worlds when he meets Neytiri (Zoe Saldana), a blue-skinned Pocahontas who introduces him to her culture.Jake\\'s inner conflict drives Avatar\\'s story, and structurally, it works. Yes, it borrows a lot from Dances with Wolves. Learning from and becoming part of another culture is nothing new, but Avatar presents this classic tale in a fresh way. As a paraplegic, Sully\\'s avatar allows him freedom. It gives him a genuine reason to view Na\\'vi life as an opportunity to start anew. I can buy it. And once the two sides of him finally clash, the power of that conflict really hits. It\\'s a tangibly large story. Epic and engrossing. The effectiveness of that simple story, well told, of connecting with your supposed enemies is why I resent the disingenuous love story Cameron decided to put front and center.Before I get to the lavish praise of Avatar, which I consider one of the most special movie experiences of the century, I must address my one nagging grievance. The love story, the Neytiri character, and all the preachy \"bio-spiritual\" fluff that comes with her, irked me. James Cameron has never been known for subtle characters, and Avatar doesn\\'t change that. Dr. Augustine is a tough-talking scientist with a penchant for cigarettes, Colonel Quaritch is a hard-as-steel military grunt with a giant scar across his face, and the CEO practices golf in his office. The point is, these are bold-faced archetypes. Neytiri is no different. She\\'s a tree-hugging, flower-power philosopher. That\\'s fine, but Zoe Saldana\\'s performance has none of Stephen Lang\\'s towering vitality or Weaver\\'s cool confidence. It\\'s all screeching and posturing. She\\'s shrill and angry, and her spirituality quickly devolves into a full-on castigation of the evils of military conquest and deforestation. Shouldn\\'t this spiritual guide be a little more even-keeled? I never believed that Jake would fall for her. Compared to Cameron\\'s other movie romance, Titanic, Avatar seems manufactured. Neytiri is less a character than she is a face on which to pin the movie\\'s heavy-handed message.With that out of the way, let\\'s get to what makes Avatar the single most monumental cinematic achievement of this generation. James Cameron creates, in Pandora, the most rich, realistic, and fully realized fictional world in the history of cinema. From a design standpoint alone, the imagination ingrained in the animals, plants, and vehicles is absolutely staggering. Pandora is miles ahead of everything else in terms of diversity of life, and what\\'s really astounding is that with all these varied alien elements, Cameron somehow makes this place real. From the high-tech, lived-in military bases to the elaborate Na\\'vi culture, with its palpable sense of history, Cameron\\'s attention to detail in Avatar is revolutionary.So too are his technical innovations. The movie is remembered most for it\\'s pioneering use of 3D, and rightfully so. Implemented alongside the uncanny photo-realism of the Na\\'vi\\'s, the creatures, the mountain-sized trees, and the bio-luminous plants, the 3D is more transporting than anything I have ever seen. All the superlatives in the world can\\'t completely do justice to the Weta team that brought Cameron\\'s gargantuan vision to reality, so I won\\'t bother. The truly commendable aspect of Avatar is not that the special effects are so sophisticated, but that you forget that what you are watching are indeed special effects. Avatar uses 3D to immerse rather than amuse. You are absorbed in the world of Pandora so completely, that it cuts across the divide we have with most films. You don\\'t watch Avatar, you live it, feel it, experience it.That feeling of absolute immersion is what defines Avatar. It\\'s a movie, with plot, characters, and a story, but that stuff doesn\\'t matter as much as the physical sensation it creates of actually being in a brand-new world. It\\'s true, Jake Sully is less important than Pandora. But those who dismiss Avatar as simply \"pretty pictures\" are undervaluing the impact of James Cameron\\'s image-making. Avatar creates visuals and utilizes technology so well, it makes the audience feel like part of the film. Some people take for granted just how significant that is. Others take for granted James Cameron\\'s direction. Here is the single most ambitious movie ever conceived, and Cameron handles it all with the confidence of a world-class chef. This guy is not intimidated by anything. He is an elite director; the world\\'s leader in action and world-building, and miraculously, he keeps getting better! Avatar is his most accomplished film.Avatar\\'s success lies in its ability to engross every kind of moviegoer. Science fiction geeks and action aficionados can revel in some of the most thrilling action scenes ever put to film (The final battle alone is more exciting than 99% of blockbusters before or since), sentimental romantics can connect to the classic story, and even those who don\\'t connect to either can experience the once-in-a-lifetime thrill of visiting Pandora. James Cameron has made a picture that defies comparison. There is not another movie that reverberates with the ethereal power of Avatar. Because Avatar is beyond movies. The film is overwhelming; An event imagined and shot on a scale bigger and bolder than anything I\\'ve seen. Assisted by James Horner\\'s majestic score and Mauro Fiore\\'s epic cinematography, Avatar totally envelopes us in an exotic world. An original masterwork of popular entertainment, Avatar deserves its spot as the biggest hit in movie history. This is truly Cameron\\'s magnum opus, a movie that burns with boundless passion. A classic that thrills as it inspires awe.93/100',\n",
              " \"After being out of the public eye since Titanic(1997), his comeback film Avatar proves to serve him right.Way forward in the future a crippled marine(Sam Worthington), becomes apart of an experiment, When he is hooked up to machine, it can put his mind and soul in the body of a 8 foot tall blue alien, and has to go undercover on there planet, to get some of there resources, but things change when he falls in love with one of the alien warriors(Zoe Saldana).This film is quite a masterpiece, it's mind blowing in any effects and storytelling ever. Sam Worthington who stole last years Terminator Salvation from a cranky Christian Bale, really does well here. So does Zoe Saldana and Sigourney Weaver. A great comeback for James Cameron.\",\n",
              " \"I watched this film awhile back in December. Before watching it, my brother told me (even though he hasn't seen the movie yet) that it was going to be bad. When I watched the trailer, I wasn't really captivated by it. I originally thought it was only a bunch of CGI's and no heart in the movie. After watching it, I was totally surprised.This movie is a feast to the human eyes. There are things in the movie that you haven't seen before in your life. It's probably the most beautiful movie you will ever see. The visuals are great; it's like you are actually part of the Avatar world. Aside from the visuals, there's a heart in this movie. You can relate to the characters the pain, the love, and the suffering they're experiencing the plot even though most of the characters are motion-captured! James Cameron, not only gives us a beautiful movie but a beautiful experience as well. It feels like being a kid again. This movie will go into the classics and the best film-making as one of the most beautiful film ever made. A must see in IMAX 3D but even without that, the journey never loses its excitement! Go watch Avatar and feast your eyes with delight! 10/10\",\n",
              " \"I saw the trailer for avatar several times before I saw the actual movie. The trailer gave me the impression that the movie would be about the typical Humans: Good guys, Aliens: Bad guys hindering good guys. Therefore the full movie blew my mind. How Jake actually becomes one of them was unpredicted. Although what did disappoint me was that the natives did not accept Jake after the destruction of their home tree, but I later realized it was an important event to unfolding the plot. The $400 Million was put to good use I must say. The 3D effects and CGI was mind blowing. I was not surprised that James Cameron would produce such an amazing film. The trailer's effect of falsely convincing viewers that they understand the plot was ingenious. I was definitely surprised on how the plot unfolded. I've seen the movie twice and can't wait for the third. Just one recommendation; See it at the IMAX. The 3D experience is incredible. I usually don't get pop-corn at movies, I just buy a large drink and have to go to the bathroom in the middle. Lets just say I almost peed my pants because I could not leave that screen. Avatar: 10/10\"]"
            ]
          },
          "metadata": {},
          "execution_count": 6
        }
      ]
    },
    {
      "cell_type": "code",
      "metadata": {
        "colab": {
          "base_uri": "https://localhost:8080/"
        },
        "id": "1qdQjq8iCSc7",
        "outputId": "99754307-c1fd-4d56-9354-5009ea8efcf9"
      },
      "source": [
        "# function to scape the review date\n",
        "def rev_date(soup):\n",
        "    \n",
        "    # create a list of review date\n",
        "    rev_date_list = []\n",
        "  \n",
        "    # find the html tag, convert to string and store to the list\n",
        "    for i in soup.find_all(\"span\", class_=\"review-date\"):\n",
        "        rev_date_list.append(i.get_text())\n",
        "    return rev_date_list\n",
        "  \n",
        "review_date = rev_date(soup)\n",
        "review_date"
      ],
      "execution_count": 7,
      "outputs": [
        {
          "output_type": "execute_result",
          "data": {
            "text/plain": [
              "['24 May 2020',\n",
              " '13 December 2009',\n",
              " '11 December 2009',\n",
              " '14 September 2016',\n",
              " '14 December 2009',\n",
              " '20 December 2009',\n",
              " '12 December 2009',\n",
              " '18 July 2016',\n",
              " '21 December 2009',\n",
              " '12 December 2009',\n",
              " '19 January 2010',\n",
              " '8 January 2010',\n",
              " '21 January 2010',\n",
              " '27 December 2009',\n",
              " '18 December 2009',\n",
              " '11 January 2010',\n",
              " '16 May 2010',\n",
              " '15 January 2010',\n",
              " '28 December 2009',\n",
              " '28 December 2009',\n",
              " '27 December 2009',\n",
              " '21 January 2017',\n",
              " '29 December 2009',\n",
              " '21 January 2010',\n",
              " '11 January 2010']"
            ]
          },
          "metadata": {},
          "execution_count": 7
        }
      ]
    },
    {
      "cell_type": "code",
      "metadata": {
        "colab": {
          "base_uri": "https://localhost:8080/",
          "height": 824
        },
        "id": "vrgtOvDcCiT5",
        "outputId": "fe0398ab-b43c-4dcb-8459-5624191a021e"
      },
      "source": [
        "# combine them together into Dataframe\n",
        "import pandas as pd\n",
        "\n",
        "IMDB_data = {'username': username, 'star': rating, 'review title': review_title, 'review text': review_text, 'review date': review_date}\n",
        "IMDB_df = pd.DataFrame(data = IMDB_data)\n",
        "\n",
        "IMDB_df"
      ],
      "execution_count": 9,
      "outputs": [
        {
          "output_type": "execute_result",
          "data": {
            "text/html": [
              "<div>\n",
              "<style scoped>\n",
              "    .dataframe tbody tr th:only-of-type {\n",
              "        vertical-align: middle;\n",
              "    }\n",
              "\n",
              "    .dataframe tbody tr th {\n",
              "        vertical-align: top;\n",
              "    }\n",
              "\n",
              "    .dataframe thead th {\n",
              "        text-align: right;\n",
              "    }\n",
              "</style>\n",
              "<table border=\"1\" class=\"dataframe\">\n",
              "  <thead>\n",
              "    <tr style=\"text-align: right;\">\n",
              "      <th></th>\n",
              "      <th>username</th>\n",
              "      <th>star</th>\n",
              "      <th>review title</th>\n",
              "      <th>review text</th>\n",
              "      <th>review date</th>\n",
              "    </tr>\n",
              "  </thead>\n",
              "  <tbody>\n",
              "    <tr>\n",
              "      <th>0</th>\n",
              "      <td>&lt;function username at 0x7f2ffb186710&gt;</td>\n",
              "      <td>&lt;function rating at 0x7f2ffb1865f0&gt;</td>\n",
              "      <td>AVATAR REVISITED\\n</td>\n",
              "      <td>I'm not exactly sure when it became a thing am...</td>\n",
              "      <td>24 May 2020</td>\n",
              "    </tr>\n",
              "    <tr>\n",
              "      <th>1</th>\n",
              "      <td>&lt;function username at 0x7f2ffb186710&gt;</td>\n",
              "      <td>&lt;function rating at 0x7f2ffb1865f0&gt;</td>\n",
              "      <td>After a decade, Cameron sets the avatar of ou...</td>\n",
              "      <td>I had the rather intense privilege to view Jam...</td>\n",
              "      <td>13 December 2009</td>\n",
              "    </tr>\n",
              "    <tr>\n",
              "      <th>2</th>\n",
              "      <td>&lt;function username at 0x7f2ffb186710&gt;</td>\n",
              "      <td>&lt;function rating at 0x7f2ffb1865f0&gt;</td>\n",
              "      <td>Technically outstanding. Originality: oh well...</td>\n",
              "      <td>Well, I just saw Avatar this morning, one of t...</td>\n",
              "      <td>11 December 2009</td>\n",
              "    </tr>\n",
              "    <tr>\n",
              "      <th>3</th>\n",
              "      <td>&lt;function username at 0x7f2ffb186710&gt;</td>\n",
              "      <td>&lt;function rating at 0x7f2ffb1865f0&gt;</td>\n",
              "      <td>Classic \"first release shock\"\\n</td>\n",
              "      <td>As a prolific reviewer here, I have on many oc...</td>\n",
              "      <td>14 September 2016</td>\n",
              "    </tr>\n",
              "    <tr>\n",
              "      <th>4</th>\n",
              "      <td>&lt;function username at 0x7f2ffb186710&gt;</td>\n",
              "      <td>&lt;function rating at 0x7f2ffb1865f0&gt;</td>\n",
              "      <td>Best movie experience of the last 30 years...\\n</td>\n",
              "      <td>I was lucky to see Avatar at a pre-screening a...</td>\n",
              "      <td>14 December 2009</td>\n",
              "    </tr>\n",
              "    <tr>\n",
              "      <th>5</th>\n",
              "      <td>&lt;function username at 0x7f2ffb186710&gt;</td>\n",
              "      <td>&lt;function rating at 0x7f2ffb1865f0&gt;</td>\n",
              "      <td>How could anyone who's seen more than 4 movie...</td>\n",
              "      <td>Let me preface this by saying I am a huge Jame...</td>\n",
              "      <td>20 December 2009</td>\n",
              "    </tr>\n",
              "    <tr>\n",
              "      <th>6</th>\n",
              "      <td>&lt;function username at 0x7f2ffb186710&gt;</td>\n",
              "      <td>&lt;function rating at 0x7f2ffb1865f0&gt;</td>\n",
              "      <td>Fascinating concept .Must be seen cannot be d...</td>\n",
              "      <td>I saw this epic last night at the Empire Leice...</td>\n",
              "      <td>12 December 2009</td>\n",
              "    </tr>\n",
              "    <tr>\n",
              "      <th>7</th>\n",
              "      <td>&lt;function username at 0x7f2ffb186710&gt;</td>\n",
              "      <td>&lt;function rating at 0x7f2ffb1865f0&gt;</td>\n",
              "      <td>Shock &amp; Awe (But in a Wondrously Mysterious, ...</td>\n",
              "      <td>From PASTO, COLOMBIA-Via: L. A. CA; CALI, COLO...</td>\n",
              "      <td>18 July 2016</td>\n",
              "    </tr>\n",
              "    <tr>\n",
              "      <th>8</th>\n",
              "      <td>&lt;function username at 0x7f2ffb186710&gt;</td>\n",
              "      <td>&lt;function rating at 0x7f2ffb1865f0&gt;</td>\n",
              "      <td>Visually stunning, but ultimately unimaginati...</td>\n",
              "      <td>First of all, let me get it out of the way: ye...</td>\n",
              "      <td>21 December 2009</td>\n",
              "    </tr>\n",
              "    <tr>\n",
              "      <th>9</th>\n",
              "      <td>&lt;function username at 0x7f2ffb186710&gt;</td>\n",
              "      <td>&lt;function rating at 0x7f2ffb1865f0&gt;</td>\n",
              "      <td>Cameron Returns\\n</td>\n",
              "      <td>Nobody directs like James Cameron. Ten years i...</td>\n",
              "      <td>12 December 2009</td>\n",
              "    </tr>\n",
              "    <tr>\n",
              "      <th>10</th>\n",
              "      <td>&lt;function username at 0x7f2ffb186710&gt;</td>\n",
              "      <td>&lt;function rating at 0x7f2ffb1865f0&gt;</td>\n",
              "      <td>Can we please just feel the Greatness of this...</td>\n",
              "      <td>Experiencing this movie, in Imax 3-D, was simp...</td>\n",
              "      <td>19 January 2010</td>\n",
              "    </tr>\n",
              "    <tr>\n",
              "      <th>11</th>\n",
              "      <td>&lt;function username at 0x7f2ffb186710&gt;</td>\n",
              "      <td>&lt;function rating at 0x7f2ffb1865f0&gt;</td>\n",
              "      <td>Special effects and soul\\n</td>\n",
              "      <td>2009 has been a year of soulless special effec...</td>\n",
              "      <td>8 January 2010</td>\n",
              "    </tr>\n",
              "    <tr>\n",
              "      <th>12</th>\n",
              "      <td>&lt;function username at 0x7f2ffb186710&gt;</td>\n",
              "      <td>&lt;function rating at 0x7f2ffb1865f0&gt;</td>\n",
              "      <td>Easily the best movie of 2009\\n</td>\n",
              "      <td>This movie is perhaps one of the most spectacu...</td>\n",
              "      <td>21 January 2010</td>\n",
              "    </tr>\n",
              "    <tr>\n",
              "      <th>13</th>\n",
              "      <td>&lt;function username at 0x7f2ffb186710&gt;</td>\n",
              "      <td>&lt;function rating at 0x7f2ffb1865f0&gt;</td>\n",
              "      <td>Escapism at it's best\\n</td>\n",
              "      <td>Just go! The people who made this movie, most ...</td>\n",
              "      <td>27 December 2009</td>\n",
              "    </tr>\n",
              "    <tr>\n",
              "      <th>14</th>\n",
              "      <td>&lt;function username at 0x7f2ffb186710&gt;</td>\n",
              "      <td>&lt;function rating at 0x7f2ffb1865f0&gt;</td>\n",
              "      <td>Avatar - Breathtakingly Beautiful\\n</td>\n",
              "      <td>When movies are created, they are done so with...</td>\n",
              "      <td>18 December 2009</td>\n",
              "    </tr>\n",
              "    <tr>\n",
              "      <th>15</th>\n",
              "      <td>&lt;function username at 0x7f2ffb186710&gt;</td>\n",
              "      <td>&lt;function rating at 0x7f2ffb1865f0&gt;</td>\n",
              "      <td>A grand cinematic experience\\n</td>\n",
              "      <td>AVATAR is one of the few films in recent years...</td>\n",
              "      <td>11 January 2010</td>\n",
              "    </tr>\n",
              "    <tr>\n",
              "      <th>16</th>\n",
              "      <td>&lt;function username at 0x7f2ffb186710&gt;</td>\n",
              "      <td>&lt;function rating at 0x7f2ffb1865f0&gt;</td>\n",
              "      <td>Wow! Stunning allegorical movie\\n</td>\n",
              "      <td>Avatar is, as you will have seen from other re...</td>\n",
              "      <td>16 May 2010</td>\n",
              "    </tr>\n",
              "    <tr>\n",
              "      <th>17</th>\n",
              "      <td>&lt;function username at 0x7f2ffb186710&gt;</td>\n",
              "      <td>&lt;function rating at 0x7f2ffb1865f0&gt;</td>\n",
              "      <td>A powerful slice of wow\\n</td>\n",
              "      <td>*** This review may contain spoilers *** I wen...</td>\n",
              "      <td>15 January 2010</td>\n",
              "    </tr>\n",
              "    <tr>\n",
              "      <th>18</th>\n",
              "      <td>&lt;function username at 0x7f2ffb186710&gt;</td>\n",
              "      <td>&lt;function rating at 0x7f2ffb1865f0&gt;</td>\n",
              "      <td>Stunning, epic cinematic experience\\n</td>\n",
              "      <td>Without a doubt, this was the single most amaz...</td>\n",
              "      <td>28 December 2009</td>\n",
              "    </tr>\n",
              "    <tr>\n",
              "      <th>19</th>\n",
              "      <td>&lt;function username at 0x7f2ffb186710&gt;</td>\n",
              "      <td>&lt;function rating at 0x7f2ffb1865f0&gt;</td>\n",
              "      <td>Great Plot, Visually Stunning!\\n</td>\n",
              "      <td>I was not sure I would like this film. I reall...</td>\n",
              "      <td>28 December 2009</td>\n",
              "    </tr>\n",
              "    <tr>\n",
              "      <th>20</th>\n",
              "      <td>&lt;function username at 0x7f2ffb186710&gt;</td>\n",
              "      <td>&lt;function rating at 0x7f2ffb1865f0&gt;</td>\n",
              "      <td>A classic in the true sense\\n</td>\n",
              "      <td>I was a bit hesitant to write a review after m...</td>\n",
              "      <td>27 December 2009</td>\n",
              "    </tr>\n",
              "    <tr>\n",
              "      <th>21</th>\n",
              "      <td>&lt;function username at 0x7f2ffb186710&gt;</td>\n",
              "      <td>&lt;function rating at 0x7f2ffb1865f0&gt;</td>\n",
              "      <td>Avatar is James Cameron's Magnum Opus. A Revo...</td>\n",
              "      <td>James Cameron is a force of nature. His movies...</td>\n",
              "      <td>21 January 2017</td>\n",
              "    </tr>\n",
              "    <tr>\n",
              "      <th>22</th>\n",
              "      <td>&lt;function username at 0x7f2ffb186710&gt;</td>\n",
              "      <td>&lt;function rating at 0x7f2ffb1865f0&gt;</td>\n",
              "      <td>James Cameron returns to his Sci-Fi roots\\n</td>\n",
              "      <td>After being out of the public eye since Titani...</td>\n",
              "      <td>29 December 2009</td>\n",
              "    </tr>\n",
              "    <tr>\n",
              "      <th>23</th>\n",
              "      <td>&lt;function username at 0x7f2ffb186710&gt;</td>\n",
              "      <td>&lt;function rating at 0x7f2ffb1865f0&gt;</td>\n",
              "      <td>The Most Beautiful Movie I've Ever Seen.\\n</td>\n",
              "      <td>I watched this film awhile back in December. B...</td>\n",
              "      <td>21 January 2010</td>\n",
              "    </tr>\n",
              "    <tr>\n",
              "      <th>24</th>\n",
              "      <td>&lt;function username at 0x7f2ffb186710&gt;</td>\n",
              "      <td>&lt;function rating at 0x7f2ffb1865f0&gt;</td>\n",
              "      <td>Avatar\\n</td>\n",
              "      <td>I saw the trailer for avatar several times bef...</td>\n",
              "      <td>11 January 2010</td>\n",
              "    </tr>\n",
              "  </tbody>\n",
              "</table>\n",
              "</div>"
            ],
            "text/plain": [
              "                                 username  ...        review date\n",
              "0   <function username at 0x7f2ffb186710>  ...        24 May 2020\n",
              "1   <function username at 0x7f2ffb186710>  ...   13 December 2009\n",
              "2   <function username at 0x7f2ffb186710>  ...   11 December 2009\n",
              "3   <function username at 0x7f2ffb186710>  ...  14 September 2016\n",
              "4   <function username at 0x7f2ffb186710>  ...   14 December 2009\n",
              "5   <function username at 0x7f2ffb186710>  ...   20 December 2009\n",
              "6   <function username at 0x7f2ffb186710>  ...   12 December 2009\n",
              "7   <function username at 0x7f2ffb186710>  ...       18 July 2016\n",
              "8   <function username at 0x7f2ffb186710>  ...   21 December 2009\n",
              "9   <function username at 0x7f2ffb186710>  ...   12 December 2009\n",
              "10  <function username at 0x7f2ffb186710>  ...    19 January 2010\n",
              "11  <function username at 0x7f2ffb186710>  ...     8 January 2010\n",
              "12  <function username at 0x7f2ffb186710>  ...    21 January 2010\n",
              "13  <function username at 0x7f2ffb186710>  ...   27 December 2009\n",
              "14  <function username at 0x7f2ffb186710>  ...   18 December 2009\n",
              "15  <function username at 0x7f2ffb186710>  ...    11 January 2010\n",
              "16  <function username at 0x7f2ffb186710>  ...        16 May 2010\n",
              "17  <function username at 0x7f2ffb186710>  ...    15 January 2010\n",
              "18  <function username at 0x7f2ffb186710>  ...   28 December 2009\n",
              "19  <function username at 0x7f2ffb186710>  ...   28 December 2009\n",
              "20  <function username at 0x7f2ffb186710>  ...   27 December 2009\n",
              "21  <function username at 0x7f2ffb186710>  ...    21 January 2017\n",
              "22  <function username at 0x7f2ffb186710>  ...   29 December 2009\n",
              "23  <function username at 0x7f2ffb186710>  ...    21 January 2010\n",
              "24  <function username at 0x7f2ffb186710>  ...    11 January 2010\n",
              "\n",
              "[25 rows x 5 columns]"
            ]
          },
          "metadata": {},
          "execution_count": 9
        }
      ]
    },
    {
      "cell_type": "markdown",
      "metadata": {
        "id": "DcL3H5r5AKsx"
      },
      "source": [
        "Question 3 (10 points): Write python code to collect 1000 articles from Google Scholar (https://scholar.google.com/), Microsoft Academic (https://academic.microsoft.com/home), or CiteSeerX (https://citeseerx.ist.psu.edu/index), or Semantic Scholar (https://www.semanticscholar.org/). \n",
        "\n",
        "The following information of the article needs to be collected:\n",
        "\n",
        "(1) Title\n",
        "\n",
        "(2) Venue/journal/conference being published\n",
        "\n",
        "(3) Year\n",
        "\n",
        "(4) Authors\n",
        "\n",
        "(5) Abstract"
      ]
    },
    {
      "cell_type": "code",
      "metadata": {
        "id": "2arejiJPAKs0"
      },
      "source": [
        "# You code here (Please add comments in the code):\n",
        "# You code here (Please add comments in the code):\n",
        "#import the library used to query a website\n",
        "import urllib.request\n",
        "\n",
        "#import the Beautiful soup functions to parse the data returned from the website\n",
        "from bs4 import BeautifulSoup\n",
        "\n",
        "url = \"https://www.semanticscholar.org/paper/[Breast-cancer].-Iwase/9bb005f04021f8efce2d593a15b53dd4fa087a6d#related-papers\"\n",
        "\n",
        "#Query the website and return the html to the variable 'page'\n",
        "page = urllib.request.urlopen(url)\n",
        "\n",
        "#Parse the html in the 'page' variable, and store it in Beautiful Soup format\n",
        "soup = BeautifulSoup(page)\n"
      ],
      "execution_count": 12,
      "outputs": []
    },
    {
      "cell_type": "code",
      "metadata": {
        "colab": {
          "base_uri": "https://localhost:8080/"
        },
        "id": "3X5vrXueDJ1s",
        "outputId": "3d149d7d-f281-41bf-9ed5-e65f9a9b5fb1"
      },
      "source": [
        "num_articles = soup.find_all(\"div\", \"cl-paper-row citation-list__paper-row\")\n",
        "print(len(num_articles))"
      ],
      "execution_count": 13,
      "outputs": [
        {
          "output_type": "stream",
          "name": "stdout",
          "text": [
            "10\n"
          ]
        }
      ]
    },
    {
      "cell_type": "code",
      "metadata": {
        "colab": {
          "base_uri": "https://localhost:8080/"
        },
        "id": "L2ZFOOPZDNXT",
        "outputId": "3d4f3481-4ba5-483d-ee8c-825b87dc0834"
      },
      "source": [
        "# function to get title of articles\n",
        "def title(page):\n",
        "    \n",
        "    # creat a title list\n",
        "    title_list = []\n",
        "  \n",
        "    # find the html tag, convert to string and store to the list\n",
        "    for i in page.find_all(\"div\", class_=\"cl-paper-title\"):\n",
        "        title_list.append(i.get_text())\n",
        "    return title_list\n",
        "   \n",
        "art_title = title(soup)\n",
        "art_title"
      ],
      "execution_count": 14,
      "outputs": [
        {
          "output_type": "execute_result",
          "data": {
            "text/plain": [
              "['A Systematic Review of Fear of Cancer Recurrence Among Indigenous and Minority Peoples',\n",
              " 'Dancing With Health: Quality of Life and Physical Improvements From an EU Collaborative Dance Programme With Women Following Breast Cancer Treatment',\n",
              " 'Defined Mathematical Relationships Among Cancer Cells Suggest Modular Growth in Tumor Progression and Highlight Developmental Features Consistent With a Para-Embryonic Nature of Cancer',\n",
              " 'SIRT7 Is a Prognostic Biomarker Associated With Immune Infiltration in Luminal Breast Cancer',\n",
              " 'The Generalization of Conscious Attentional Avoidance in Response to Threat Among Breast Cancer Women With Persistent Distress',\n",
              " 'Similarities Between Embryo Development and Cancer Process Suggest New Strategies for Research and Therapy of Tumors: A New Point of View',\n",
              " 'Breast cancer risk assessment using the Gail model: a Turkish study.',\n",
              " 'Design, synthesis and bioevaluation of novel 6-(4-Hydroxypiperidino)naphthalen-2-ol-based potential Selective Estrogen Receptor Modulators for breast cancer.',\n",
              " 'The level of knowledge, attitude and practice of breast self- examination among nurses in the Effia nkwanta regional hospital in the Sekondi Takoradi metropolis',\n",
              " 'Breast cancer awareness of rural women in Malaysia: is it the same as in the cities?']"
            ]
          },
          "metadata": {},
          "execution_count": 14
        }
      ]
    },
    {
      "cell_type": "code",
      "metadata": {
        "colab": {
          "base_uri": "https://localhost:8080/"
        },
        "id": "lUW9CgzIDdsn",
        "outputId": "86b39132-3f15-42d4-8aab-a085387b1296"
      },
      "source": [
        "# function to get Venue/journal/conference being published\n",
        "def published(soup):\n",
        "    \n",
        "    # create a publisher list\n",
        "    publish_list = []\n",
        "  \n",
        "    # find the html tag, convert to string and store to the list\n",
        "    for i in soup.find_all(\"span\", class_=\"cl-paper-venue\"):\n",
        "        publish_list.append(i.get_text())\n",
        "    return publish_list\n",
        "   \n",
        "art_published = published(soup)\n",
        "art_published\n"
      ],
      "execution_count": 15,
      "outputs": [
        {
          "output_type": "execute_result",
          "data": {
            "text/plain": [
              "['Frontiers in Psychology',\n",
              " 'Frontiers in Psychology',\n",
              " 'Frontiers in Cell and Developmental Biology',\n",
              " 'Frontiers in Oncology',\n",
              " 'Frontiers in Psychology',\n",
              " 'Front. Cell Dev. Biol.',\n",
              " 'Asian Pacific journal of cancer prevention : APJCP',\n",
              " 'European journal of medicinal chemistry',\n",
              " 'Asian Pacific journal of cancer prevention : APJCP']"
            ]
          },
          "metadata": {},
          "execution_count": 15
        }
      ]
    },
    {
      "cell_type": "code",
      "metadata": {
        "colab": {
          "base_uri": "https://localhost:8080/"
        },
        "id": "yqWC-sC3Dr52",
        "outputId": "d9694237-224f-4a1c-9014-3f01e411a664"
      },
      "source": [
        "# function to get a Year\n",
        "def year(soup):\n",
        "    \n",
        "    # create a year list\n",
        "    year_list = []\n",
        "  \n",
        "    # find the html tag, convert to string and save to the list\n",
        "    for i in soup.find_all(\"span\", class_=\"cl-paper-pubdates\"):\n",
        "        year_list.append(i.get_text())\n",
        "    return year_list\n",
        "   \n",
        "art_year = year(soup)\n",
        "art_year"
      ],
      "execution_count": 16,
      "outputs": [
        {
          "output_type": "execute_result",
          "data": {
            "text/plain": [
              "['2021',\n",
              " '2021',\n",
              " '2020',\n",
              " '2020',\n",
              " '2020',\n",
              " '2019',\n",
              " '2015',\n",
              " '2015',\n",
              " '2014',\n",
              " '2013']"
            ]
          },
          "metadata": {},
          "execution_count": 16
        }
      ]
    },
    {
      "cell_type": "code",
      "metadata": {
        "colab": {
          "base_uri": "https://localhost:8080/"
        },
        "id": "bEV-rPzbD6RE",
        "outputId": "f76bd27d-64e3-4efb-94c3-155d262d6dd5"
      },
      "source": [
        "# function to get Authors\n",
        "def authors(soup):\n",
        "    \n",
        "    # create a author list\n",
        "    authors_list = []\n",
        "  \n",
        "    # find the html tag, convert to string and store to the list\n",
        "    for i in soup.find_all(\"a\", class_=\"cl-paper-authors__author-link\"):\n",
        "        authors_list.append(i.get_text())\n",
        "    return authors_list\n",
        "   \n",
        "art_authors = authors(soup)\n",
        "art_authors"
      ],
      "execution_count": 17,
      "outputs": [
        {
          "output_type": "execute_result",
          "data": {
            "text/plain": [
              "['Kate Anderson',\n",
              " 'A. Smith',\n",
              " 'G. Garvey',\n",
              " 'V. Karkou',\n",
              " 'Irene Dudley-Swarbrick',\n",
              " 'A. Parisi',\n",
              " 'G. Manzo',\n",
              " 'Qin Huo',\n",
              " 'Zhenwei Li',\n",
              " 'L. Cheng',\n",
              " 'Fan Yang',\n",
              " 'Ni Xie',\n",
              " 'D. Ng',\n",
              " 'R. Fielding',\n",
              " 'W. Lam',\n",
              " 'G. Manzo',\n",
              " 'N. Erbil',\n",
              " 'N. Dundar',\n",
              " 'Ç. Inan',\n",
              " 'Nurgul Bolukbas',\n",
              " 'A. Jha',\n",
              " 'Y. Yadav',\n",
              " 'T. S. Cameron',\n",
              " 'F. Akuffo',\n",
              " 'Abdul Aziz Norlaili',\n",
              " 'Mohd Fatihah',\n",
              " 'N. Daliana',\n",
              " 'D. Maznah']"
            ]
          },
          "metadata": {},
          "execution_count": 17
        }
      ]
    },
    {
      "cell_type": "code",
      "metadata": {
        "colab": {
          "base_uri": "https://localhost:8080/"
        },
        "id": "k9dlFbC8EIqP",
        "outputId": "38a45692-e420-4bc2-adab-c2d6496c4406"
      },
      "source": [
        "# function to get Abstract\n",
        "def abstract(soup):\n",
        "    \n",
        "    # create an abstract list\n",
        "    abstract_list = []\n",
        "  \n",
        "    # find the html tag, convert to string and store to the list\n",
        "    for i in soup.find_all(\"span\", class_=\"tldr-abstract-replacement text-truncator\"):\n",
        "        abstract_list.append(i.get_text())\n",
        "    return abstract_list\n",
        "   \n",
        "art_abstract = abstract(soup)\n",
        "art_abstract"
      ],
      "execution_count": 18,
      "outputs": [
        {
          "output_type": "execute_result",
          "data": {
            "text/plain": [
              "[]"
            ]
          },
          "metadata": {},
          "execution_count": 18
        }
      ]
    },
    {
      "cell_type": "code",
      "metadata": {
        "colab": {
          "base_uri": "https://localhost:8080/",
          "height": 359
        },
        "id": "YmBdJNzvEXx4",
        "outputId": "64221431-cd3a-47bd-da1e-e946dfe6d5e1"
      },
      "source": [
        "# combine data into Dataframe\n",
        "import pandas as pd\n",
        "\n",
        "papers = dict(title = art_title, publisher = art_published, year = art_year, abstract = art_abstract)\n",
        "papers = pd.DataFrame.from_dict(papers, orient='index')\n",
        "papers = papers.transpose()\n",
        "papers"
      ],
      "execution_count": 19,
      "outputs": [
        {
          "output_type": "execute_result",
          "data": {
            "text/html": [
              "<div>\n",
              "<style scoped>\n",
              "    .dataframe tbody tr th:only-of-type {\n",
              "        vertical-align: middle;\n",
              "    }\n",
              "\n",
              "    .dataframe tbody tr th {\n",
              "        vertical-align: top;\n",
              "    }\n",
              "\n",
              "    .dataframe thead th {\n",
              "        text-align: right;\n",
              "    }\n",
              "</style>\n",
              "<table border=\"1\" class=\"dataframe\">\n",
              "  <thead>\n",
              "    <tr style=\"text-align: right;\">\n",
              "      <th></th>\n",
              "      <th>title</th>\n",
              "      <th>publisher</th>\n",
              "      <th>year</th>\n",
              "      <th>abstract</th>\n",
              "    </tr>\n",
              "  </thead>\n",
              "  <tbody>\n",
              "    <tr>\n",
              "      <th>0</th>\n",
              "      <td>A Systematic Review of Fear of Cancer Recurren...</td>\n",
              "      <td>Frontiers in Psychology</td>\n",
              "      <td>2021</td>\n",
              "      <td>None</td>\n",
              "    </tr>\n",
              "    <tr>\n",
              "      <th>1</th>\n",
              "      <td>Dancing With Health: Quality of Life and Physi...</td>\n",
              "      <td>Frontiers in Psychology</td>\n",
              "      <td>2021</td>\n",
              "      <td>None</td>\n",
              "    </tr>\n",
              "    <tr>\n",
              "      <th>2</th>\n",
              "      <td>Defined Mathematical Relationships Among Cance...</td>\n",
              "      <td>Frontiers in Cell and Developmental Biology</td>\n",
              "      <td>2020</td>\n",
              "      <td>None</td>\n",
              "    </tr>\n",
              "    <tr>\n",
              "      <th>3</th>\n",
              "      <td>SIRT7 Is a Prognostic Biomarker Associated Wit...</td>\n",
              "      <td>Frontiers in Oncology</td>\n",
              "      <td>2020</td>\n",
              "      <td>None</td>\n",
              "    </tr>\n",
              "    <tr>\n",
              "      <th>4</th>\n",
              "      <td>The Generalization of Conscious Attentional Av...</td>\n",
              "      <td>Frontiers in Psychology</td>\n",
              "      <td>2020</td>\n",
              "      <td>None</td>\n",
              "    </tr>\n",
              "    <tr>\n",
              "      <th>5</th>\n",
              "      <td>Similarities Between Embryo Development and Ca...</td>\n",
              "      <td>Front. Cell Dev. Biol.</td>\n",
              "      <td>2019</td>\n",
              "      <td>None</td>\n",
              "    </tr>\n",
              "    <tr>\n",
              "      <th>6</th>\n",
              "      <td>Breast cancer risk assessment using the Gail m...</td>\n",
              "      <td>Asian Pacific journal of cancer prevention : A...</td>\n",
              "      <td>2015</td>\n",
              "      <td>None</td>\n",
              "    </tr>\n",
              "    <tr>\n",
              "      <th>7</th>\n",
              "      <td>Design, synthesis and bioevaluation of novel 6...</td>\n",
              "      <td>European journal of medicinal chemistry</td>\n",
              "      <td>2015</td>\n",
              "      <td>None</td>\n",
              "    </tr>\n",
              "    <tr>\n",
              "      <th>8</th>\n",
              "      <td>The level of knowledge, attitude and practice ...</td>\n",
              "      <td>Asian Pacific journal of cancer prevention : A...</td>\n",
              "      <td>2014</td>\n",
              "      <td>None</td>\n",
              "    </tr>\n",
              "    <tr>\n",
              "      <th>9</th>\n",
              "      <td>Breast cancer awareness of rural women in Mala...</td>\n",
              "      <td>None</td>\n",
              "      <td>2013</td>\n",
              "      <td>None</td>\n",
              "    </tr>\n",
              "  </tbody>\n",
              "</table>\n",
              "</div>"
            ],
            "text/plain": [
              "                                               title  ... abstract\n",
              "0  A Systematic Review of Fear of Cancer Recurren...  ...     None\n",
              "1  Dancing With Health: Quality of Life and Physi...  ...     None\n",
              "2  Defined Mathematical Relationships Among Cance...  ...     None\n",
              "3  SIRT7 Is a Prognostic Biomarker Associated Wit...  ...     None\n",
              "4  The Generalization of Conscious Attentional Av...  ...     None\n",
              "5  Similarities Between Embryo Development and Ca...  ...     None\n",
              "6  Breast cancer risk assessment using the Gail m...  ...     None\n",
              "7  Design, synthesis and bioevaluation of novel 6...  ...     None\n",
              "8  The level of knowledge, attitude and practice ...  ...     None\n",
              "9  Breast cancer awareness of rural women in Mala...  ...     None\n",
              "\n",
              "[10 rows x 4 columns]"
            ]
          },
          "metadata": {},
          "execution_count": 19
        }
      ]
    },
    {
      "cell_type": "markdown",
      "metadata": {
        "id": "EbbvgT_xAKs2"
      },
      "source": [
        "Question 4 (10 points): Write python code to collect 1000 posts from Twitter, or Facebook, or Instagram. You can either use hashtags, keywords, user_name, user_id, or other information to collect the data. \n",
        "\n",
        "The following information needs to be collected:\n",
        "\n",
        "(1) User_name\n",
        "\n",
        "(2) Posted time\n",
        "\n",
        "(3) Text "
      ]
    },
    {
      "cell_type": "code",
      "metadata": {
        "colab": {
          "base_uri": "https://localhost:8080/"
        },
        "id": "76tapredAKs4",
        "outputId": "51afbdbd-a770-426f-f6d8-f269fe8a671c"
      },
      "source": [
        "# You code here (Please add comments in the code):\n",
        "!pip install tweepy"
      ],
      "execution_count": 20,
      "outputs": [
        {
          "output_type": "stream",
          "name": "stdout",
          "text": [
            "Requirement already satisfied: tweepy in /usr/local/lib/python3.7/dist-packages (3.10.0)\n",
            "Requirement already satisfied: requests[socks]>=2.11.1 in /usr/local/lib/python3.7/dist-packages (from tweepy) (2.23.0)\n",
            "Requirement already satisfied: requests-oauthlib>=0.7.0 in /usr/local/lib/python3.7/dist-packages (from tweepy) (1.3.0)\n",
            "Requirement already satisfied: six>=1.10.0 in /usr/local/lib/python3.7/dist-packages (from tweepy) (1.15.0)\n",
            "Requirement already satisfied: oauthlib>=3.0.0 in /usr/local/lib/python3.7/dist-packages (from requests-oauthlib>=0.7.0->tweepy) (3.1.1)\n",
            "Requirement already satisfied: certifi>=2017.4.17 in /usr/local/lib/python3.7/dist-packages (from requests[socks]>=2.11.1->tweepy) (2021.5.30)\n",
            "Requirement already satisfied: chardet<4,>=3.0.2 in /usr/local/lib/python3.7/dist-packages (from requests[socks]>=2.11.1->tweepy) (3.0.4)\n",
            "Requirement already satisfied: idna<3,>=2.5 in /usr/local/lib/python3.7/dist-packages (from requests[socks]>=2.11.1->tweepy) (2.10)\n",
            "Requirement already satisfied: urllib3!=1.25.0,!=1.25.1,<1.26,>=1.21.1 in /usr/local/lib/python3.7/dist-packages (from requests[socks]>=2.11.1->tweepy) (1.24.3)\n",
            "Requirement already satisfied: PySocks!=1.5.7,>=1.5.6 in /usr/local/lib/python3.7/dist-packages (from requests[socks]>=2.11.1->tweepy) (1.7.1)\n"
          ]
        }
      ]
    },
    {
      "cell_type": "code",
      "metadata": {
        "id": "IagpxOBqC8jc"
      },
      "source": [
        "import json\n",
        "import csv\n",
        "import tweepy\n",
        "import re"
      ],
      "execution_count": 21,
      "outputs": []
    },
    {
      "cell_type": "code",
      "metadata": {
        "id": "0vQMzCjUE9pi"
      },
      "source": [
        "def hashtag_search(consumer_key, consumer_secret, access_token, access_token_secret, hashtag):\n",
        "  \n",
        "  # create authentication for accessing Twitter\n",
        "  auth = tweepy.OAuthHandler(consumer_key, consumer_secret)\n",
        "  auth.set_access_token(access_token, access_token_secret)\n",
        "\n",
        "  # initialize Tweepy API\n",
        "  api = tweepy.API(auth)\n",
        "\n",
        "  # get the name of the spreadsheet we will write to\n",
        "  fname = '_'.join(re.findall(r\"#(\\w+)\", hashtag))\n",
        "\n",
        "  # will collect 1000 posts\n",
        "  numtweet = int(input('Enter the number of tweets that you want to collect: '))\n",
        "\n",
        "  # open the spreadsheet we will write to\n",
        "  with open('%s.csv' % (fname), 'w') as file:\n",
        "      w = csv.writer(file)\n",
        "      \n",
        "      # write header row to spreadsheet\n",
        "      w.writerow(['posted time', 'tweet text', 'user_name'])\n",
        "\n",
        "      # for each tweet matching our hashtags, write relevant info to the spreadsheet\n",
        "      # \n",
        "      for tweet in tweepy.Cursor(api.search, q=hashtag+' -filter:retweets', lang=\"en\", tweet_mode='extended').items(numtweet):\n",
        "            w.writerow([tweet.created_at, tweet.full_text.replace('\\n',' ').encode('utf-8'), tweet.user.screen_name.encode('utf-8')])\n"
      ],
      "execution_count": 25,
      "outputs": []
    },
    {
      "cell_type": "code",
      "metadata": {
        "colab": {
          "base_uri": "https://localhost:8080/"
        },
        "id": "irjTV5HBGhwT",
        "outputId": "4b5075a6-8c40-4b36-bf4e-c513c74f1b37"
      },
      "source": [
        "consumer_key = input('Consumer Key:  ')\n",
        "consumer_secret= input('Consumer Secret: ')\n",
        "access_token = input('Access Token: ')\n",
        "access_token_secret = input('Access Token Secret: ')\n",
        "\n",
        "hashtag = input(\"Enter the hashtag you want to scrape: \")\n",
        "\n",
        "if __name__ == '__main__':\n",
        "    hashtag_search(consumer_key, consumer_secret, access_token, access_token_secret, hashtag)\n",
        "\n"
      ],
      "execution_count": 26,
      "outputs": [
        {
          "name": "stdout",
          "output_type": "stream",
          "text": [
            "Consumer Key:  ZUnFhQgGuurs2lUIGsAEsDzU6\n",
            "Consumer Secret: WeHRlanabUTc6ZkykZLBIlDWHGPFg3QbpEpXwJSdoip7XXkXgb\n",
            "Access Token: 393052525-l96ijZMJaEAUFTaIc1mReZEZcCKtSMcQiAeovXO2\n",
            "Access Token Secret: pxsIywI4m8Lg4Tt9cGtNyz4qRJgy4gsWcrCFXrZj5z86G\n",
            "Enter the hashtag you want to scrape: #olympics2021\n",
            "Enter the number of tweets that you want to collect: 1000\n"
          ]
        }
      ]
    }
  ]
}
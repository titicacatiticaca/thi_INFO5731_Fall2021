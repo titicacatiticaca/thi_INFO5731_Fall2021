{
 "cells": [
  {
   "cell_type": "markdown",
   "metadata": {
    "colab_type": "text",
    "id": "view-in-github"
   },
   "source": [
    "<a href=\"https://colab.research.google.com/github/unt-iialab/INFO5731_Spring2020/blob/master/In_class_exercise/In_class_exercise_01.ipynb\" target=\"_parent\"><img src=\"https://colab.research.google.com/assets/colab-badge.svg\" alt=\"Open In Colab\"/></a>"
   ]
  },
  {
   "cell_type": "markdown",
   "metadata": {
    "colab_type": "text",
    "id": "DymRJbxDBCnf"
   },
   "source": [
    "# **The first In-class-exercise (09/01/2021, 40 points in total)**"
   ]
  },
  {
   "cell_type": "markdown",
   "metadata": {
    "colab_type": "text",
    "id": "03jb4GZsBkBS"
   },
   "source": [
    "(1) Write a Python program to calculate the length of a string. (4 points)"
   ]
  },
  {
   "cell_type": "code",
   "execution_count": 4,
   "metadata": {
    "colab": {},
    "colab_type": "code",
    "id": "YaGLbSHHB8Ej"
   },
   "outputs": [
    {
     "name": "stdout",
     "output_type": "stream",
     "text": [
      "Enter a string: This is the first In-class-exercise.\n",
      "The length of string:  36\n"
     ]
    }
   ],
   "source": [
    "# write your answer here: \n",
    "\n",
    "x = input(\"Enter a string: \")\n",
    "count = 0\n",
    "for char in x:\n",
    "    count += 1\n",
    "\n",
    "print(\"The length of string: \", count)\n"
   ]
  },
  {
   "cell_type": "markdown",
   "metadata": {
    "colab_type": "text",
    "id": "jJDe71iLB616"
   },
   "source": [
    "(2) Write a Python program to count the number of characters in a string. (4 points)\n",
    "\n",
    "Sample String : 'google.com‘, \n",
    "\n",
    "Expected Result : {'o': 3, 'g': 2, '.': 1, 'e': 1, 'l': 1, 'm': 1, 'c': 1}"
   ]
  },
  {
   "cell_type": "code",
   "execution_count": 24,
   "metadata": {
    "colab": {},
    "colab_type": "code",
    "id": "MtKskTzbCLaU"
   },
   "outputs": [
    {
     "name": "stdout",
     "output_type": "stream",
     "text": [
      "Enter a string: In-class-exercise\n",
      "the number of characters in a string: {'I': 1, 'n': 1, '-': 2, 'c': 2, 'l': 1, 'a': 1, 's': 3, 'e': 3, 'x': 1, 'r': 1, 'i': 1}\n"
     ]
    }
   ],
   "source": [
    "# write your answer here\n",
    "x = input(\"Enter a string: \")\n",
    "d = {}\n",
    "for i in x:\n",
    "    keys = d.keys()\n",
    "    if i in keys:\n",
    "        d[i] += 1\n",
    "    else:\n",
    "        d[i] = 1\n",
    "print(\"the number of characters in a string:\", d)  "
   ]
  },
  {
   "cell_type": "markdown",
   "metadata": {
    "colab_type": "text",
    "id": "55W9AMdXCSpV"
   },
   "source": [
    "(3) Write a Python program to sum all the items in a list. (4 points)"
   ]
  },
  {
   "cell_type": "code",
   "execution_count": 22,
   "metadata": {
    "colab": {},
    "colab_type": "code",
    "id": "I57NXsauCec2"
   },
   "outputs": [
    {
     "name": "stdout",
     "output_type": "stream",
     "text": [
      "Enter a list of number (seperated by space): 1 3 5 -9 41 -5\n",
      "Total of all items in a list:  36\n"
     ]
    }
   ],
   "source": [
    "# write your answer here\n",
    "list_num = input(\"Enter a list of number (seperated by space): \")\n",
    "list  = list_num.split()\n",
    "sum_items = 0\n",
    "for num in list:\n",
    "    sum_items += int(num)\n",
    "print(\"Total of all items in a list: \", sum_items)"
   ]
  },
  {
   "cell_type": "markdown",
   "metadata": {
    "colab_type": "text",
    "id": "4ulBZ6yhCi9F"
   },
   "source": [
    "(4) Write a Python program to get a string from a given string where all occurrences of its first char have been changed to '\\$', except the first char itself. (4 points)\n",
    "\n",
    "Sample String : 'restart‘, \n",
    "\n",
    "Expected Result : 'resta\\$t'"
   ]
  },
  {
   "cell_type": "code",
   "execution_count": 28,
   "metadata": {
    "colab": {},
    "colab_type": "code",
    "id": "Fj0XhwbBCw2o"
   },
   "outputs": [
    {
     "name": "stdout",
     "output_type": "stream",
     "text": [
      "Enter a string: in-class-exercise\n",
      "Expected result:  in-class-exerc$se\n"
     ]
    }
   ],
   "source": [
    "# write your answer here\n",
    "x = input(\"Enter a string: \")\n",
    "char = x[0]\n",
    "length = len(x)  \n",
    "x = x.replace(char, '$')  \n",
    "x = char + x[1:]  \n",
    "print(\"Expected result: \", x)\n"
   ]
  },
  {
   "cell_type": "markdown",
   "metadata": {
    "colab_type": "text",
    "id": "_bIP7s1MCzue"
   },
   "source": [
    "(5) Write a program with python which could accept two parameter a and b to calculate and output the result of S, where \n",
    "\n",
    "$\\ S=3.14*(1+a/b)^3$ (4 points)\n",
    "\n"
   ]
  },
  {
   "cell_type": "code",
   "execution_count": 33,
   "metadata": {
    "colab": {},
    "colab_type": "code",
    "id": "w79QilHXD3Mg"
   },
   "outputs": [
    {
     "name": "stdout",
     "output_type": "stream",
     "text": [
      "Enter a parameter a: 6\n",
      "Enter a parameter b: 9\n",
      "S = 3.14*(1+a/b)^3 =  14.537037037037033\n"
     ]
    }
   ],
   "source": [
    "# write your answer here\n",
    "a = input(\"Enter a parameter a: \")\n",
    "b = input(\"Enter a parameter b: \")\n",
    "\n",
    "S = 3.14 * (1 + int(a)/int(b))**3\n",
    "\n",
    "print(\"S = 3.14*(1+a/b)^3 = \", S)"
   ]
  },
  {
   "cell_type": "markdown",
   "metadata": {
    "colab_type": "text",
    "id": "xCa2bK9aD4Q3"
   },
   "source": [
    "(6) Write a Python program to concatenate following dictionaries to create a new one. (4 points)\n",
    "\n",
    "Sample Dictionary : dic1={1:10, 2:20}, dic2={3:30, 4:40}, dic3={5:50,6:60}, \n",
    "\n",
    "Expected Result : {1: 10, 2: 20, 3: 30, 4: 40, 5: 50, 6: 60}\n"
   ]
  },
  {
   "cell_type": "code",
   "execution_count": 34,
   "metadata": {
    "colab": {},
    "colab_type": "code",
    "id": "_z4aLqAbEET1"
   },
   "outputs": [
    {
     "name": "stdout",
     "output_type": "stream",
     "text": [
      "{1: 10, 2: 20, 3: 30, 4: 40, 5: 50, 6: 60}\n"
     ]
    }
   ],
   "source": [
    "# write your answer here\n",
    "dic1={1:10, 2:20}\n",
    "dic2={3:30, 4:40}\n",
    "dic3={5:50,6:60}\n",
    "new_dict = {}\n",
    "for d in (dic1, dic2, dic3): \n",
    "    new_dict.update(d)\n",
    "print(new_dict)"
   ]
  },
  {
   "cell_type": "markdown",
   "metadata": {
    "colab_type": "text",
    "id": "0v48Vqa7FrQh"
   },
   "source": [
    "(7) Write a Python program to check whether an element exists within a tuple. (4 points)"
   ]
  },
  {
   "cell_type": "code",
   "execution_count": 36,
   "metadata": {
    "colab": {},
    "colab_type": "code",
    "id": "7WEmgq-DF2P1"
   },
   "outputs": [
    {
     "name": "stdout",
     "output_type": "stream",
     "text": [
      "Enter the elements of tuple (seperated by comma ','): e,x,e,r,c,i,s,e,due,9,/,2,/,2,0,2,1\n",
      "Enter a charater/number: 10\n",
      "False\n"
     ]
    }
   ],
   "source": [
    "# write your answer here\n",
    "t = input(\"Enter the elements of tuple (seperated by comma ','): \")\n",
    "x = input(\"Enter a charater/number: \")\n",
    "print(x in t)"
   ]
  },
  {
   "cell_type": "markdown",
   "metadata": {
    "colab_type": "text",
    "id": "vD5PYLMuGga_"
   },
   "source": [
    "(8) Write a Python program to find maximum and the minimum value in a set. (4 points)"
   ]
  },
  {
   "cell_type": "code",
   "execution_count": 45,
   "metadata": {
    "colab": {},
    "colab_type": "code",
    "id": "t0D5kdJUGjjw"
   },
   "outputs": [
    {
     "name": "stdout",
     "output_type": "stream",
     "text": [
      "Enter a set of number (seperated by space): -6.5 0 10 11.5 12 -4\n",
      "Minimun value in set:  -4\n",
      "Maximum value in set:  12\n"
     ]
    }
   ],
   "source": [
    "# write your answer here\n",
    "set_num = input(\"Enter a set of number (seperated by space): \")\n",
    "set  = set_num.split()\n",
    "min_value = min(set)\n",
    "max_value = max(set)\n",
    "print(\"Minimun value in set: \", min_value)\n",
    "print(\"Maximum value in set: \", max_value)            "
   ]
  },
  {
   "cell_type": "markdown",
   "metadata": {
    "colab_type": "text",
    "id": "uHkd-y5VhVWC"
   },
   "source": [
    "(9) Write a Python program to randomly divide the students in this class into six groups for term projects, each group should have at least 4 students but no more than 6 students (including 6). Here is the students list: (4 points)\n",
    "\n",
    "studnet_list = ['vmb0067','pc0353','snd0097','yye0005','sg0940','bk0301','rak0120','rrk0058','spk0057','vl0135','nm0547','pn0159',\n",
    "           'msp0174','dd0420','ds0761','rs0850','ss1995','at0739','at0768','mv0299','tv0119','dy0091','py0080','ttp0037','hc0439','ri0094','pk0339', 'hn0145','mn0426']"
   ]
  },
  {
   "cell_type": "code",
   "execution_count": 0,
   "metadata": {
    "colab": {},
    "colab_type": "code",
    "id": "3iGbmcOBhTwy"
   },
   "outputs": [],
   "source": [
    "# write your answer here\n",
    "input random\n",
    "studnet_list = ['vmb0067','pc0353','snd0097','yye0005','sg0940','bk0301','rak0120','rrk0058','spk0057','vl0135','nm0547','pn0159', 'msp0174','dd0420','ds0761','rs0850','ss1995','at0739','at0768','mv0299','tv0119','dy0091','py0080','ttp0037','hc0439','ri0094','pk0339', 'hn0145','mn0426']\n",
    "group = []\n",
    "\n",
    "for i in range(6)\n",
    "    group.append(random.randint(4,6))\n",
    "    \n",
    "for i  in range(6)\n",
    "    if sum(group)!= len(studnet_list):\n",
    "        if group[i]\n"
   ]
  },
  {
   "cell_type": "markdown",
   "metadata": {},
   "source": [
    "(10) Write a Python program to find the duplicate elements in a given array of integers. Return -1 If there are no such elements. (4 points)"
   ]
  },
  {
   "cell_type": "code",
   "execution_count": 77,
   "metadata": {},
   "outputs": [
    {
     "ename": "TypeError",
     "evalue": "'list' object is not callable",
     "output_type": "error",
     "traceback": [
      "\u001b[1;31m---------------------------------------------------------------------------\u001b[0m",
      "\u001b[1;31mTypeError\u001b[0m                                 Traceback (most recent call last)",
      "\u001b[1;32m<ipython-input-77-43b3f5538edb>\u001b[0m in \u001b[0;36m<module>\u001b[1;34m\u001b[0m\n\u001b[0;32m      3\u001b[0m     \u001b[0mnums_set\u001b[0m \u001b[1;33m=\u001b[0m \u001b[0mset\u001b[0m\u001b[1;33m(\u001b[0m\u001b[0marray_nums\u001b[0m\u001b[1;33m)\u001b[0m\u001b[1;33m\u001b[0m\u001b[1;33m\u001b[0m\u001b[0m\n\u001b[0;32m      4\u001b[0m     \u001b[1;32mreturn\u001b[0m \u001b[0mlen\u001b[0m\u001b[1;33m(\u001b[0m\u001b[0marray_nums\u001b[0m\u001b[1;33m)\u001b[0m \u001b[1;33m!=\u001b[0m \u001b[0mlen\u001b[0m\u001b[1;33m(\u001b[0m\u001b[0mnums_set\u001b[0m\u001b[1;33m)\u001b[0m\u001b[1;33m\u001b[0m\u001b[1;33m\u001b[0m\u001b[0m\n\u001b[1;32m----> 5\u001b[1;33m \u001b[0mprint\u001b[0m\u001b[1;33m(\u001b[0m\u001b[0mtest_duplicate\u001b[0m\u001b[1;33m(\u001b[0m\u001b[1;33m[\u001b[0m\u001b[1;36m1\u001b[0m\u001b[1;33m,\u001b[0m\u001b[1;36m2\u001b[0m\u001b[1;33m,\u001b[0m\u001b[1;36m3\u001b[0m\u001b[1;33m,\u001b[0m\u001b[1;36m4\u001b[0m\u001b[1;33m,\u001b[0m\u001b[1;36m5\u001b[0m\u001b[1;33m]\u001b[0m\u001b[1;33m)\u001b[0m\u001b[1;33m)\u001b[0m\u001b[1;33m\u001b[0m\u001b[1;33m\u001b[0m\u001b[0m\n\u001b[0m",
      "\u001b[1;32m<ipython-input-77-43b3f5538edb>\u001b[0m in \u001b[0;36mtest_duplicate\u001b[1;34m(array_nums)\u001b[0m\n\u001b[0;32m      1\u001b[0m \u001b[1;31m# write your answer here\u001b[0m\u001b[1;33m\u001b[0m\u001b[1;33m\u001b[0m\u001b[1;33m\u001b[0m\u001b[0m\n\u001b[0;32m      2\u001b[0m \u001b[1;32mdef\u001b[0m \u001b[0mtest_duplicate\u001b[0m\u001b[1;33m(\u001b[0m\u001b[0marray_nums\u001b[0m\u001b[1;33m)\u001b[0m\u001b[1;33m:\u001b[0m\u001b[1;33m\u001b[0m\u001b[1;33m\u001b[0m\u001b[0m\n\u001b[1;32m----> 3\u001b[1;33m     \u001b[0mnums_set\u001b[0m \u001b[1;33m=\u001b[0m \u001b[0mset\u001b[0m\u001b[1;33m(\u001b[0m\u001b[0marray_nums\u001b[0m\u001b[1;33m)\u001b[0m\u001b[1;33m\u001b[0m\u001b[1;33m\u001b[0m\u001b[0m\n\u001b[0m\u001b[0;32m      4\u001b[0m     \u001b[1;32mreturn\u001b[0m \u001b[0mlen\u001b[0m\u001b[1;33m(\u001b[0m\u001b[0marray_nums\u001b[0m\u001b[1;33m)\u001b[0m \u001b[1;33m!=\u001b[0m \u001b[0mlen\u001b[0m\u001b[1;33m(\u001b[0m\u001b[0mnums_set\u001b[0m\u001b[1;33m)\u001b[0m\u001b[1;33m\u001b[0m\u001b[1;33m\u001b[0m\u001b[0m\n\u001b[0;32m      5\u001b[0m \u001b[0mprint\u001b[0m\u001b[1;33m(\u001b[0m\u001b[0mtest_duplicate\u001b[0m\u001b[1;33m(\u001b[0m\u001b[1;33m[\u001b[0m\u001b[1;36m1\u001b[0m\u001b[1;33m,\u001b[0m\u001b[1;36m2\u001b[0m\u001b[1;33m,\u001b[0m\u001b[1;36m3\u001b[0m\u001b[1;33m,\u001b[0m\u001b[1;36m4\u001b[0m\u001b[1;33m,\u001b[0m\u001b[1;36m5\u001b[0m\u001b[1;33m]\u001b[0m\u001b[1;33m)\u001b[0m\u001b[1;33m)\u001b[0m\u001b[1;33m\u001b[0m\u001b[1;33m\u001b[0m\u001b[0m\n",
      "\u001b[1;31mTypeError\u001b[0m: 'list' object is not callable"
     ]
    }
   ],
   "source": [
    "# write your answer here\n",
    "def find_duplicate(arr_num):\n",
    "    n = len(arr_num)\n",
    "    duplicate = []\n",
    "    for i in range(n):\n",
    "        k = i + 1\n",
    "        for j in range(k, n):\n",
    "            if arr_num[i] == arr_num(j) and arr_num[i] not in duplicate:\n",
    "                duplicate.append(arr_num[i])\n",
    "    return -1\n",
    "            \n",
    "     \n",
    "arr = [1,2,3,4,4,5]\n",
    "print(find_duplicate(arr))"
   ]
  },
  {
   "cell_type": "markdown",
   "metadata": {},
   "source": [
    "(11) Write a Python program to select all the Sundays of a specified year. (4 extra points)"
   ]
  },
  {
   "cell_type": "code",
   "execution_count": 76,
   "metadata": {},
   "outputs": [
    {
     "name": "stdout",
     "output_type": "stream",
     "text": [
      "enter a year: 2020\n",
      "2020-01-05\n",
      "2020-01-12\n",
      "2020-01-19\n",
      "2020-01-26\n",
      "2020-02-02\n",
      "2020-02-09\n",
      "2020-02-16\n",
      "2020-02-23\n",
      "2020-03-01\n",
      "2020-03-08\n",
      "2020-03-15\n",
      "2020-03-22\n",
      "2020-03-29\n",
      "2020-04-05\n",
      "2020-04-12\n",
      "2020-04-19\n",
      "2020-04-26\n",
      "2020-05-03\n",
      "2020-05-10\n",
      "2020-05-17\n",
      "2020-05-24\n",
      "2020-05-31\n",
      "2020-06-07\n",
      "2020-06-14\n",
      "2020-06-21\n",
      "2020-06-28\n",
      "2020-07-05\n",
      "2020-07-12\n",
      "2020-07-19\n",
      "2020-07-26\n",
      "2020-08-02\n",
      "2020-08-09\n",
      "2020-08-16\n",
      "2020-08-23\n",
      "2020-08-30\n",
      "2020-09-06\n",
      "2020-09-13\n",
      "2020-09-20\n",
      "2020-09-27\n",
      "2020-10-04\n",
      "2020-10-11\n",
      "2020-10-18\n",
      "2020-10-25\n",
      "2020-11-01\n",
      "2020-11-08\n",
      "2020-11-15\n",
      "2020-11-22\n",
      "2020-11-29\n",
      "2020-12-06\n",
      "2020-12-13\n",
      "2020-12-20\n",
      "2020-12-27\n"
     ]
    }
   ],
   "source": [
    "# write your answer here\n",
    "from datetime import date, timedelta\n",
    "\n",
    "Year= int(input(\"enter a year: \"))\n",
    "def all_sundays(Year):\n",
    "       dt = date(Year, 1, 1)    \n",
    "       dt += timedelta(days = 6 - dt.weekday())  \n",
    "       while dt.year == Year:\n",
    "          yield dt\n",
    "          dt += timedelta(days = 7)\n",
    "            \n",
    "for s in all_sundays(Year):\n",
    "    print(s)"
   ]
  },
  {
   "cell_type": "code",
   "execution_count": null,
   "metadata": {},
   "outputs": [],
   "source": []
  }
 ],
 "metadata": {
  "colab": {
   "collapsed_sections": [],
   "include_colab_link": true,
   "name": "In_class_exercise_01.ipynb",
   "provenance": []
  },
  "kernelspec": {
   "display_name": "Python 3",
   "language": "python",
   "name": "python3"
  },
  "language_info": {
   "codemirror_mode": {
    "name": "ipython",
    "version": 3
   },
   "file_extension": ".py",
   "mimetype": "text/x-python",
   "name": "python",
   "nbconvert_exporter": "python",
   "pygments_lexer": "ipython3",
   "version": "3.8.8"
  }
 },
 "nbformat": 4,
 "nbformat_minor": 1
}

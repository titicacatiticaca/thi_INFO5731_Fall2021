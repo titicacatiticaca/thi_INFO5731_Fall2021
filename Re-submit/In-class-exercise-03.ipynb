{
 "cells": [
  {
   "cell_type": "markdown",
   "metadata": {},
   "source": [
    "## The third In-class-exercise (9/29/2021, 40 points in total)"
   ]
  },
  {
   "cell_type": "markdown",
   "metadata": {},
   "source": [
    "The purpose of this exercise is to understand text representation."
   ]
  },
  {
   "cell_type": "markdown",
   "metadata": {},
   "source": [
    "Question 1 (10 points): Describe an interesting text classification or text mining task and explain what kind of features might be useful for you to build the machine learning model. List your features and explain why these features might be helpful. You need to list at least five different types of features."
   ]
  },
  {
   "cell_type": "code",
   "execution_count": null,
   "metadata": {},
   "outputs": [],
   "source": [
    "# Your answer here (no code for this question, write down your answer as detail as possible for the above questions):\n",
    "\n",
    "'''\n",
    "Please write you answer here:\n",
    "\n",
    "In Text Classification Workflow, one of the steps is a feature engineering. \n",
    "In this step, raw data will be cleaned and transformed into feature vectores. \n",
    "In addiction, the new features will be created using prior dataset. \n",
    "Word level feature and sentence-level features are the features that is useful to you the SVM and Naive Bayes machine learning models.\n",
    "The features are: TF-IDF (TF-IDF, IDF, N-gram) & (POS tagging, systax analysis)\n",
    "\n",
    "- TF-IDF: using \"Term frequency\" and calculated by multiplying 2 metrics: term frequency and inverse document frequency.\n",
    "- POS tagging: describe the characteristic structure of lexical terms within a sentence or text.\n",
    "- Word2vec: group the vectors of similar words together.\n",
    "\n",
    "'''"
   ]
  },
  {
   "cell_type": "markdown",
   "metadata": {},
   "source": [
    "Question 2 (20 points): Write python code to extract these features you discussed above. You can collect a few sample text data for the feature extraction. "
   ]
  },
  {
   "cell_type": "code",
   "execution_count": 3,
   "metadata": {},
   "outputs": [],
   "source": [
    "# You code here (Please add comments in the code):\n",
    "\n",
    "listofsen = ['Don’t be buffaloed by experts and elites.','Experts often possess more data than judgment.','Elites can become so inbred that they produce hemophiliacs who bleed to death as soon as they are nicked by the real world']\n"
   ]
  },
  {
   "cell_type": "code",
   "execution_count": 4,
   "metadata": {},
   "outputs": [
    {
     "data": {
      "text/html": [
       "<div>\n",
       "<style scoped>\n",
       "    .dataframe tbody tr th:only-of-type {\n",
       "        vertical-align: middle;\n",
       "    }\n",
       "\n",
       "    .dataframe tbody tr th {\n",
       "        vertical-align: top;\n",
       "    }\n",
       "\n",
       "    .dataframe thead th {\n",
       "        text-align: right;\n",
       "    }\n",
       "</style>\n",
       "<table border=\"1\" class=\"dataframe\">\n",
       "  <thead>\n",
       "    <tr style=\"text-align: right;\">\n",
       "      <th></th>\n",
       "      <th>sentence</th>\n",
       "    </tr>\n",
       "  </thead>\n",
       "  <tbody>\n",
       "    <tr>\n",
       "      <th>0</th>\n",
       "      <td>Don’t be buffaloed by experts and elites.</td>\n",
       "    </tr>\n",
       "    <tr>\n",
       "      <th>1</th>\n",
       "      <td>Experts often possess more data than judgment.</td>\n",
       "    </tr>\n",
       "    <tr>\n",
       "      <th>2</th>\n",
       "      <td>Elites can become so inbred that they produce ...</td>\n",
       "    </tr>\n",
       "  </tbody>\n",
       "</table>\n",
       "</div>"
      ],
      "text/plain": [
       "                                            sentence\n",
       "0          Don’t be buffaloed by experts and elites.\n",
       "1     Experts often possess more data than judgment.\n",
       "2  Elites can become so inbred that they produce ..."
      ]
     },
     "execution_count": 4,
     "metadata": {},
     "output_type": "execute_result"
    }
   ],
   "source": [
    "import pandas as pd\n",
    "\n",
    "data = pd.DataFrame(listofsen, columns = ['sentence'])\n",
    "data"
   ]
  },
  {
   "cell_type": "code",
   "execution_count": 5,
   "metadata": {},
   "outputs": [
    {
     "name": "stderr",
     "output_type": "stream",
     "text": [
      "<ipython-input-5-28c7fdde95ed>:2: FutureWarning: The default value of regex will change from True to False in a future version.\n",
      "  data['sentence'] = data['sentence'].str.replace('[^\\w\\s]','')\n"
     ]
    },
    {
     "data": {
      "text/html": [
       "<div>\n",
       "<style scoped>\n",
       "    .dataframe tbody tr th:only-of-type {\n",
       "        vertical-align: middle;\n",
       "    }\n",
       "\n",
       "    .dataframe tbody tr th {\n",
       "        vertical-align: top;\n",
       "    }\n",
       "\n",
       "    .dataframe thead th {\n",
       "        text-align: right;\n",
       "    }\n",
       "</style>\n",
       "<table border=\"1\" class=\"dataframe\">\n",
       "  <thead>\n",
       "    <tr style=\"text-align: right;\">\n",
       "      <th></th>\n",
       "      <th>sentence</th>\n",
       "    </tr>\n",
       "  </thead>\n",
       "  <tbody>\n",
       "    <tr>\n",
       "      <th>0</th>\n",
       "      <td>Dont be buffaloed by experts and elites</td>\n",
       "    </tr>\n",
       "    <tr>\n",
       "      <th>1</th>\n",
       "      <td>Experts often possess more data than judgment</td>\n",
       "    </tr>\n",
       "    <tr>\n",
       "      <th>2</th>\n",
       "      <td>Elites can become so inbred that they produce ...</td>\n",
       "    </tr>\n",
       "  </tbody>\n",
       "</table>\n",
       "</div>"
      ],
      "text/plain": [
       "                                            sentence\n",
       "0            Dont be buffaloed by experts and elites\n",
       "1      Experts often possess more data than judgment\n",
       "2  Elites can become so inbred that they produce ..."
      ]
     },
     "execution_count": 5,
     "metadata": {},
     "output_type": "execute_result"
    }
   ],
   "source": [
    "# Removing Punctuation\n",
    "data['sentence'] = data['sentence'].str.replace('[^\\w\\s]','')\n",
    "data"
   ]
  },
  {
   "cell_type": "code",
   "execution_count": 8,
   "metadata": {},
   "outputs": [
    {
     "name": "stdout",
     "output_type": "stream",
     "text": [
      "{'produce', 'they', 'can', 'so', 'hemophiliacs', 'who', 'are', 'real', 'world', 'than', 'to', 'more', 'Elites', 'bleed', 'the', 'death', 'possess', 'inbred', 'soon', 'that', 'nicked', 'often', 'by', 'data', 'as', 'judgment', 'Experts', 'become'}\n",
      "{'produce': 0, 'they': 0, 'can': 0, 'so': 0, 'hemophiliacs': 0, 'who': 0, 'are': 0, 'real': 0, 'world': 0, 'than': 1, 'to': 0, 'more': 1, 'Elites': 0, 'bleed': 0, 'the': 0, 'death': 0, 'possess': 1, 'inbred': 0, 'soon': 0, 'that': 0, 'nicked': 0, 'often': 1, 'by': 0, 'data': 1, 'as': 0, 'judgment': 1, 'Experts': 1, 'become': 0}\n",
      "{'produce': 1, 'they': 2, 'can': 1, 'so': 1, 'hemophiliacs': 1, 'who': 1, 'are': 1, 'real': 1, 'world': 1, 'than': 0, 'to': 1, 'more': 0, 'Elites': 1, 'bleed': 1, 'the': 1, 'death': 1, 'possess': 0, 'inbred': 1, 'soon': 1, 'that': 1, 'nicked': 1, 'often': 0, 'by': 1, 'data': 0, 'as': 2, 'judgment': 0, 'Experts': 0, 'become': 1}\n"
     ]
    }
   ],
   "source": [
    "# Bag of words\n",
    "import pandas as pd\n",
    "from sklearn.feature_extraction.text import TfidfVectorizer\n",
    "\n",
    "sentence1 = data['sentence'][1]\n",
    "sentence2 = data['sentence'][2]\n",
    "\n",
    "bagOfWords1 = sentence1.split(' ')\n",
    "bagOfWords2 = sentence2.split(' ')\n",
    "\n",
    "uniqueWords = set(bagOfWords1).union(set(bagOfWords2))\n",
    "print(uniqueWords)\n",
    "\n",
    "numOfWords1 = dict.fromkeys(uniqueWords, 0)\n",
    "for word in bagOfWords1:\n",
    "    numOfWords1[word] += 1\n",
    "\n",
    "numOfWords2 = dict.fromkeys(uniqueWords, 0)\n",
    "for word in bagOfWords2:\n",
    "    numOfWords2[word] += 1\n",
    "\n",
    "print(numOfWords1)\n",
    "print(numOfWords2)\n",
    "\n"
   ]
  },
  {
   "cell_type": "code",
   "execution_count": 13,
   "metadata": {},
   "outputs": [
    {
     "data": {
      "text/plain": [
       "{'produce': 0.0,\n",
       " 'they': 0.0,\n",
       " 'can': 0.0,\n",
       " 'so': 0.0,\n",
       " 'hemophiliacs': 0.0,\n",
       " 'who': 0.0,\n",
       " 'are': 0.0,\n",
       " 'real': 0.0,\n",
       " 'world': 0.0,\n",
       " 'than': 0.14285714285714285,\n",
       " 'to': 0.0,\n",
       " 'more': 0.14285714285714285,\n",
       " 'Elites': 0.0,\n",
       " 'bleed': 0.0,\n",
       " 'the': 0.0,\n",
       " 'death': 0.0,\n",
       " 'possess': 0.14285714285714285,\n",
       " 'inbred': 0.0,\n",
       " 'soon': 0.0,\n",
       " 'that': 0.0,\n",
       " 'nicked': 0.0,\n",
       " 'often': 0.14285714285714285,\n",
       " 'by': 0.0,\n",
       " 'data': 0.14285714285714285,\n",
       " 'as': 0.0,\n",
       " 'judgment': 0.14285714285714285,\n",
       " 'Experts': 0.14285714285714285,\n",
       " 'become': 0.0}"
      ]
     },
     "execution_count": 13,
     "metadata": {},
     "output_type": "execute_result"
    }
   ],
   "source": [
    "from nltk.corpus import stopwords\n",
    "stopwords.words('english')\n",
    "\n",
    "#Term Frequency (TF)\n",
    "def computeTF(wordDict, bagOfWords):\n",
    "    tfDict = {}\n",
    "    bagOfWordsCount = len(bagOfWords)\n",
    "    for word, count in wordDict.items():\n",
    "        tfDict[word] = count / float(bagOfWordsCount)\n",
    "    return tfDict\n",
    "\n",
    "tf1 = computeTF(numOfWords1, bagOfWords1)\n",
    "tf1\n",
    "#tf2 = computeTF(numOfWords2, bagOfWords2)\n"
   ]
  },
  {
   "cell_type": "code",
   "execution_count": 14,
   "metadata": {},
   "outputs": [
    {
     "data": {
      "text/html": [
       "<div>\n",
       "<style scoped>\n",
       "    .dataframe tbody tr th:only-of-type {\n",
       "        vertical-align: middle;\n",
       "    }\n",
       "\n",
       "    .dataframe tbody tr th {\n",
       "        vertical-align: top;\n",
       "    }\n",
       "\n",
       "    .dataframe thead th {\n",
       "        text-align: right;\n",
       "    }\n",
       "</style>\n",
       "<table border=\"1\" class=\"dataframe\">\n",
       "  <thead>\n",
       "    <tr style=\"text-align: right;\">\n",
       "      <th></th>\n",
       "      <th>produce</th>\n",
       "      <th>they</th>\n",
       "      <th>can</th>\n",
       "      <th>so</th>\n",
       "      <th>hemophiliacs</th>\n",
       "      <th>who</th>\n",
       "      <th>are</th>\n",
       "      <th>real</th>\n",
       "      <th>world</th>\n",
       "      <th>than</th>\n",
       "      <th>...</th>\n",
       "      <th>soon</th>\n",
       "      <th>that</th>\n",
       "      <th>nicked</th>\n",
       "      <th>often</th>\n",
       "      <th>by</th>\n",
       "      <th>data</th>\n",
       "      <th>as</th>\n",
       "      <th>judgment</th>\n",
       "      <th>Experts</th>\n",
       "      <th>become</th>\n",
       "    </tr>\n",
       "  </thead>\n",
       "  <tbody>\n",
       "    <tr>\n",
       "      <th>0</th>\n",
       "      <td>0.000000</td>\n",
       "      <td>0.000000</td>\n",
       "      <td>0.000000</td>\n",
       "      <td>0.000000</td>\n",
       "      <td>0.000000</td>\n",
       "      <td>0.000000</td>\n",
       "      <td>0.000000</td>\n",
       "      <td>0.000000</td>\n",
       "      <td>0.000000</td>\n",
       "      <td>0.099021</td>\n",
       "      <td>...</td>\n",
       "      <td>0.000000</td>\n",
       "      <td>0.000000</td>\n",
       "      <td>0.000000</td>\n",
       "      <td>0.099021</td>\n",
       "      <td>0.000000</td>\n",
       "      <td>0.099021</td>\n",
       "      <td>0.000000</td>\n",
       "      <td>0.099021</td>\n",
       "      <td>0.099021</td>\n",
       "      <td>0.000000</td>\n",
       "    </tr>\n",
       "    <tr>\n",
       "      <th>1</th>\n",
       "      <td>0.030137</td>\n",
       "      <td>0.060274</td>\n",
       "      <td>0.030137</td>\n",
       "      <td>0.030137</td>\n",
       "      <td>0.030137</td>\n",
       "      <td>0.030137</td>\n",
       "      <td>0.030137</td>\n",
       "      <td>0.030137</td>\n",
       "      <td>0.030137</td>\n",
       "      <td>0.000000</td>\n",
       "      <td>...</td>\n",
       "      <td>0.030137</td>\n",
       "      <td>0.030137</td>\n",
       "      <td>0.030137</td>\n",
       "      <td>0.000000</td>\n",
       "      <td>0.030137</td>\n",
       "      <td>0.000000</td>\n",
       "      <td>0.060274</td>\n",
       "      <td>0.000000</td>\n",
       "      <td>0.000000</td>\n",
       "      <td>0.030137</td>\n",
       "    </tr>\n",
       "  </tbody>\n",
       "</table>\n",
       "<p>2 rows × 28 columns</p>\n",
       "</div>"
      ],
      "text/plain": [
       "    produce      they       can        so  hemophiliacs       who       are  \\\n",
       "0  0.000000  0.000000  0.000000  0.000000      0.000000  0.000000  0.000000   \n",
       "1  0.030137  0.060274  0.030137  0.030137      0.030137  0.030137  0.030137   \n",
       "\n",
       "       real     world      than  ...      soon      that    nicked     often  \\\n",
       "0  0.000000  0.000000  0.099021  ...  0.000000  0.000000  0.000000  0.099021   \n",
       "1  0.030137  0.030137  0.000000  ...  0.030137  0.030137  0.030137  0.000000   \n",
       "\n",
       "         by      data        as  judgment   Experts    become  \n",
       "0  0.000000  0.099021  0.000000  0.099021  0.099021  0.000000  \n",
       "1  0.030137  0.000000  0.060274  0.000000  0.000000  0.030137  \n",
       "\n",
       "[2 rows x 28 columns]"
      ]
     },
     "execution_count": 14,
     "metadata": {},
     "output_type": "execute_result"
    }
   ],
   "source": [
    "#Inverse Data Frequency (IDF)\n",
    "def computeIDF(documents):\n",
    "    import math\n",
    "    N = len(documents)\n",
    "    \n",
    "    idfDict = dict.fromkeys(documents[0].keys(), 0)\n",
    "    for document in documents:\n",
    "        for word, val in document.items():\n",
    "            if val > 0:\n",
    "                idfDict[word] += 1    \n",
    "    for word, val in idfDict.items():\n",
    "        idfDict[word] = math.log(N / float(val))\n",
    "    return idfDict\n",
    "\n",
    "idfs = computeIDF([numOfWords1, numOfWords2])\n",
    "\n",
    "def computeTFIDF(tfBagOfWords, idfs):\n",
    "    tfidf = {}\n",
    "    for word, val in tfBagOfWords.items():\n",
    "        tfidf[word] = val * idfs[word]\n",
    "    return tfidf\n",
    "\n",
    "tfidf1 = computeTFIDF(tf1, idfs)\n",
    "tfidf2 = computeTFIDF(tf2, idfs)\n",
    "df = pd.DataFrame([tfidf1, tfidf2])\n",
    "df\n"
   ]
  },
  {
   "cell_type": "code",
   "execution_count": 16,
   "metadata": {},
   "outputs": [
    {
     "name": "stdout",
     "output_type": "stream",
     "text": [
      "Collecting en-core-web-sm==3.1.0\n",
      "  Downloading https://github.com/explosion/spacy-models/releases/download/en_core_web_sm-3.1.0/en_core_web_sm-3.1.0-py3-none-any.whl (13.6 MB)\n",
      "Requirement already satisfied: spacy<3.2.0,>=3.1.0 in c:\\users\\ttp0037\\anaconda3\\lib\\site-packages (from en-core-web-sm==3.1.0) (3.1.3)\n",
      "Requirement already satisfied: pydantic!=1.8,!=1.8.1,<1.9.0,>=1.7.4 in c:\\users\\ttp0037\\anaconda3\\lib\\site-packages (from spacy<3.2.0,>=3.1.0->en-core-web-sm==3.1.0) (1.8.2)\n",
      "Requirement already satisfied: packaging>=20.0 in c:\\users\\ttp0037\\anaconda3\\lib\\site-packages (from spacy<3.2.0,>=3.1.0->en-core-web-sm==3.1.0) (20.9)\n",
      "Requirement already satisfied: blis<0.8.0,>=0.4.0 in c:\\users\\ttp0037\\anaconda3\\lib\\site-packages (from spacy<3.2.0,>=3.1.0->en-core-web-sm==3.1.0) (0.7.4)\n",
      "Requirement already satisfied: srsly<3.0.0,>=2.4.1 in c:\\users\\ttp0037\\anaconda3\\lib\\site-packages (from spacy<3.2.0,>=3.1.0->en-core-web-sm==3.1.0) (2.4.1)\n",
      "Requirement already satisfied: typer<0.5.0,>=0.3.0 in c:\\users\\ttp0037\\anaconda3\\lib\\site-packages (from spacy<3.2.0,>=3.1.0->en-core-web-sm==3.1.0) (0.4.0)\n",
      "Requirement already satisfied: jinja2 in c:\\users\\ttp0037\\anaconda3\\lib\\site-packages (from spacy<3.2.0,>=3.1.0->en-core-web-sm==3.1.0) (2.11.3)\n",
      "Requirement already satisfied: tqdm<5.0.0,>=4.38.0 in c:\\users\\ttp0037\\anaconda3\\lib\\site-packages (from spacy<3.2.0,>=3.1.0->en-core-web-sm==3.1.0) (4.59.0)\n",
      "Requirement already satisfied: catalogue<2.1.0,>=2.0.6 in c:\\users\\ttp0037\\anaconda3\\lib\\site-packages (from spacy<3.2.0,>=3.1.0->en-core-web-sm==3.1.0) (2.0.6)\n",
      "Requirement already satisfied: setuptools in c:\\users\\ttp0037\\anaconda3\\lib\\site-packages (from spacy<3.2.0,>=3.1.0->en-core-web-sm==3.1.0) (52.0.0.post20210125)\n",
      "Requirement already satisfied: numpy>=1.15.0 in c:\\users\\ttp0037\\anaconda3\\lib\\site-packages (from spacy<3.2.0,>=3.1.0->en-core-web-sm==3.1.0) (1.20.1)\n",
      "Requirement already satisfied: cymem<2.1.0,>=2.0.2 in c:\\users\\ttp0037\\anaconda3\\lib\\site-packages (from spacy<3.2.0,>=3.1.0->en-core-web-sm==3.1.0) (2.0.5)\n",
      "Requirement already satisfied: spacy-legacy<3.1.0,>=3.0.8 in c:\\users\\ttp0037\\anaconda3\\lib\\site-packages (from spacy<3.2.0,>=3.1.0->en-core-web-sm==3.1.0) (3.0.8)\n",
      "Requirement already satisfied: wasabi<1.1.0,>=0.8.1 in c:\\users\\ttp0037\\anaconda3\\lib\\site-packages (from spacy<3.2.0,>=3.1.0->en-core-web-sm==3.1.0) (0.8.2)\n",
      "Requirement already satisfied: murmurhash<1.1.0,>=0.28.0 in c:\\users\\ttp0037\\anaconda3\\lib\\site-packages (from spacy<3.2.0,>=3.1.0->en-core-web-sm==3.1.0) (1.0.5)\n",
      "Requirement already satisfied: pathy>=0.3.5 in c:\\users\\ttp0037\\anaconda3\\lib\\site-packages (from spacy<3.2.0,>=3.1.0->en-core-web-sm==3.1.0) (0.6.0)\n",
      "Requirement already satisfied: preshed<3.1.0,>=3.0.2 in c:\\users\\ttp0037\\anaconda3\\lib\\site-packages (from spacy<3.2.0,>=3.1.0->en-core-web-sm==3.1.0) (3.0.5)\n",
      "Requirement already satisfied: requests<3.0.0,>=2.13.0 in c:\\users\\ttp0037\\anaconda3\\lib\\site-packages (from spacy<3.2.0,>=3.1.0->en-core-web-sm==3.1.0) (2.25.1)\n",
      "Requirement already satisfied: thinc<8.1.0,>=8.0.9 in c:\\users\\ttp0037\\anaconda3\\lib\\site-packages (from spacy<3.2.0,>=3.1.0->en-core-web-sm==3.1.0) (8.0.10)\n",
      "Requirement already satisfied: pyparsing>=2.0.2 in c:\\users\\ttp0037\\anaconda3\\lib\\site-packages (from packaging>=20.0->spacy<3.2.0,>=3.1.0->en-core-web-sm==3.1.0) (2.4.7)\n",
      "Requirement already satisfied: smart-open<6.0.0,>=5.0.0 in c:\\users\\ttp0037\\anaconda3\\lib\\site-packages (from pathy>=0.3.5->spacy<3.2.0,>=3.1.0->en-core-web-sm==3.1.0) (5.2.1)\n",
      "Requirement already satisfied: typing-extensions>=3.7.4.3 in c:\\users\\ttp0037\\anaconda3\\lib\\site-packages (from pydantic!=1.8,!=1.8.1,<1.9.0,>=1.7.4->spacy<3.2.0,>=3.1.0->en-core-web-sm==3.1.0) (3.7.4.3)\n",
      "Requirement already satisfied: idna<3,>=2.5 in c:\\users\\ttp0037\\anaconda3\\lib\\site-packages (from requests<3.0.0,>=2.13.0->spacy<3.2.0,>=3.1.0->en-core-web-sm==3.1.0) (2.10)\n",
      "Requirement already satisfied: certifi>=2017.4.17 in c:\\users\\ttp0037\\anaconda3\\lib\\site-packages (from requests<3.0.0,>=2.13.0->spacy<3.2.0,>=3.1.0->en-core-web-sm==3.1.0) (2020.12.5)\n",
      "Requirement already satisfied: chardet<5,>=3.0.2 in c:\\users\\ttp0037\\anaconda3\\lib\\site-packages (from requests<3.0.0,>=2.13.0->spacy<3.2.0,>=3.1.0->en-core-web-sm==3.1.0) (4.0.0)\n",
      "Requirement already satisfied: urllib3<1.27,>=1.21.1 in c:\\users\\ttp0037\\anaconda3\\lib\\site-packages (from requests<3.0.0,>=2.13.0->spacy<3.2.0,>=3.1.0->en-core-web-sm==3.1.0) (1.26.4)\n",
      "Requirement already satisfied: click<9.0.0,>=7.1.1 in c:\\users\\ttp0037\\anaconda3\\lib\\site-packages (from typer<0.5.0,>=0.3.0->spacy<3.2.0,>=3.1.0->en-core-web-sm==3.1.0) (7.1.2)\n",
      "Requirement already satisfied: MarkupSafe>=0.23 in c:\\users\\ttp0037\\anaconda3\\lib\\site-packages (from jinja2->spacy<3.2.0,>=3.1.0->en-core-web-sm==3.1.0) (1.1.1)\n",
      "Installing collected packages: en-core-web-sm\n",
      "Successfully installed en-core-web-sm-3.1.0\n",
      "[+] Download and installation successful\n",
      "You can now load the package via spacy.load('en_core_web_sm')\n"
     ]
    }
   ],
   "source": [
    "# POS-tagging\n",
    "!python -m spacy download en_core_web_sm\n"
   ]
  },
  {
   "cell_type": "code",
   "execution_count": 17,
   "metadata": {},
   "outputs": [
    {
     "name": "stderr",
     "output_type": "stream",
     "text": [
      "[nltk_data] Downloading package punkt to\n",
      "[nltk_data]     C:\\Users\\ttp0037\\AppData\\Roaming\\nltk_data...\n",
      "[nltk_data]   Package punkt is already up-to-date!\n",
      "[nltk_data] Downloading package stopwords to\n",
      "[nltk_data]     C:\\Users\\ttp0037\\AppData\\Roaming\\nltk_data...\n",
      "[nltk_data]   Package stopwords is already up-to-date!\n",
      "[nltk_data] Downloading package wordnet to\n",
      "[nltk_data]     C:\\Users\\ttp0037\\AppData\\Roaming\\nltk_data...\n",
      "[nltk_data]   Package wordnet is already up-to-date!\n"
     ]
    }
   ],
   "source": [
    "import re\n",
    "import unicodedata\n",
    "import nltk\n",
    "from nltk.corpus import stopwords\n",
    "import en_core_web_sm\n",
    "from textblob import Word\n",
    "import spacy\n",
    "nlp = spacy.load(\"en_core_web_sm\")\n",
    "#import en_core_web_s\n",
    "nltk.download('punkt')\n",
    "nltk.download('stopwords')\n",
    "nltk.download('wordnet')\n",
    "# add appropriate words that will be ignored in the analysis\n",
    "ADDITIONAL_STOPWORDS = ['covfefe']\n",
    "\n",
    "def basic_clean(text):\n",
    "    wnl = nltk.stem.WordNetLemmatizer()\n",
    "    stopwords = nltk.corpus.stopwords.words('english') + ADDITIONAL_STOPWORDS\n",
    "    text = (unicodedata.normalize('NFKD', text)\n",
    "    .encode('ascii', 'ignore')\n",
    "    .decode('utf-8', 'ignore')\n",
    "    .lower())\n",
    "    words = re.sub(r'[^\\w\\s]', '', text).split()\n",
    "    return [wnl.lemmatize(word) for word in words if word not in stopwords]\n"
   ]
  },
  {
   "cell_type": "code",
   "execution_count": 18,
   "metadata": {},
   "outputs": [],
   "source": [
    "words = basic_clean(''.join(str(data['sentence'].tolist())))"
   ]
  },
  {
   "cell_type": "code",
   "execution_count": 19,
   "metadata": {},
   "outputs": [
    {
     "name": "stdout",
     "output_type": "stream",
     "text": [
      "[ -> PUNCT\n",
      "' -> PUNCT\n",
      "do -> AUX\n",
      "nt -> VERB\n",
      "' -> PUNCT\n",
      ", -> PUNCT\n",
      "' -> PUNCT\n",
      "buffaloed -> VERB\n",
      "' -> PUNCT\n",
      ", -> PUNCT\n",
      "' -> PUNCT\n",
      "expert -> NOUN\n",
      "' -> PUNCT\n",
      ", -> PUNCT\n",
      "' -> PUNCT\n",
      "elite -> ADJ\n",
      "' -> PUNCT\n",
      ", -> PUNCT\n",
      "' -> PUNCT\n",
      "expert -> NOUN\n",
      "' -> PUNCT\n",
      ", -> PUNCT\n",
      "' -> PUNCT\n",
      "often -> ADV\n",
      "' -> PUNCT\n",
      ", -> PUNCT\n",
      "' -> PUNCT\n",
      "posse -> NOUN\n",
      "' -> PUNCT\n",
      ", -> PUNCT\n",
      "' -> PUNCT\n",
      "data -> NOUN\n",
      "' -> PUNCT\n",
      ", -> PUNCT\n",
      "' -> PUNCT\n",
      "judgment -> NOUN\n",
      "' -> PUNCT\n",
      ", -> PUNCT\n",
      "' -> PUNCT\n",
      "elite -> ADJ\n",
      "' -> PUNCT\n",
      ", -> PUNCT\n",
      "' -> PUNCT\n",
      "become -> VERB\n",
      "' -> PUNCT\n",
      ", -> PUNCT\n",
      "' -> PUNCT\n",
      "inbred -> VERB\n",
      "' -> PUNCT\n",
      ", -> PUNCT\n",
      "' -> PUNCT\n",
      "produce -> VERB\n",
      "' -> PUNCT\n",
      ", -> PUNCT\n",
      "' -> PUNCT\n",
      "hemophiliac -> NOUN\n",
      "' -> PUNCT\n",
      ", -> PUNCT\n",
      "' -> PUNCT\n",
      "bleed -> VERB\n",
      "' -> PUNCT\n",
      ", -> PUNCT\n",
      "' -> PUNCT\n",
      "death -> NOUN\n",
      "' -> PUNCT\n",
      ", -> PUNCT\n",
      "' -> PUNCT\n",
      "soon -> ADV\n",
      "' -> PUNCT\n",
      ", -> PUNCT\n",
      "' -> PUNCT\n",
      "nicked -> VERB\n",
      "' -> PUNCT\n",
      ", -> PUNCT\n",
      "' -> PUNCT\n",
      "real -> ADJ\n",
      "' -> PUNCT\n",
      ", -> PUNCT\n",
      "' -> PUNCT\n",
      "world -> NOUN\n",
      "' -> PUNCT\n",
      "] -> PUNCT\n",
      "The total nouns:  8\n",
      "The total verbs:  7\n",
      "The total adjectives:  3\n",
      "The total adverbs:  2\n"
     ]
    }
   ],
   "source": [
    "# load english language model\n",
    "nlp = spacy.load('en_core_web_sm',disable=['ner','textcat'])\n",
    "nlp = en_core_web_sm.load()\n",
    "\n",
    "# create spacy \n",
    "doc = nlp(str(words))\n",
    "noun = 0\n",
    "verb = 0\n",
    "adj = 0\n",
    "adv = 0\n",
    "for token in doc:\n",
    "    print(token.text,'->',token.pos_)\n",
    "    if token.pos_ == 'NOUN':\n",
    "      noun = noun+1\n",
    "    elif token.pos_ == 'VERB':\n",
    "      verb = verb+1\n",
    "    elif token.pos_ == 'ADJ':\n",
    "      adj = adj+1\n",
    "    elif token.pos_ == 'ADV':\n",
    "      adv = adv+1\n",
    "    else:\n",
    "      pass\n",
    "print(\"The total nouns: \", noun)\n",
    "print(\"The total verbs: \", verb)\n",
    "print(\"The total adjectives: \", adj)\n",
    "print(\"The total adverbs: \", adv)"
   ]
  },
  {
   "cell_type": "code",
   "execution_count": 32,
   "metadata": {},
   "outputs": [
    {
     "name": "stdout",
     "output_type": "stream",
     "text": [
      "[[1 1 1 1 1 1 1 1 1]]\n",
      "['are', 'becoming', 'business', 'data', 'material', 'new', 'of', 'raw', 'the']\n"
     ]
    }
   ],
   "source": [
    "# Word2vec features\n",
    "from sklearn.feature_extraction.text import CountVectorizer\n",
    "vectorizer=CountVectorizer()\n",
    "data_corpus=['Data are becoming the new raw material of business.']\n",
    "vocabulary=vectorizer.fit(data_corpus)\n",
    "X= vectorizer.transform(data_corpus)\n",
    "print(X.toarray())\n",
    "print(vocabulary.get_feature_names())"
   ]
  },
  {
   "cell_type": "markdown",
   "metadata": {},
   "source": [
    "Question 3 (10 points): Use any of the feature selection methods mentioned in this paper \"Deng, X., Li, Y., Weng, J., & Zhang, J. (2019). Feature selection for text classification: A review. Multimedia Tools & Applications, 78(3).\" Select the most important features you extracted above, rank the features based on their importance in the descending order. "
   ]
  },
  {
   "cell_type": "code",
   "execution_count": 35,
   "metadata": {},
   "outputs": [
    {
     "data": {
      "image/png": "[encoded data removed]",
      "text/plain": [
       "<Figure size 432x288 with 1 Axes>"
      ]
     },
     "metadata": {
      "needs_background": "light"
     },
     "output_type": "display_data"
    }
   ],
   "source": [
    "import matplotlib.pyplot as plt\n",
    "from sklearn.datasets import make_classification\n",
    "from sklearn.model_selection import train_test_split\n",
    "# Data generation and model fitting\n",
    "X, y = make_classification(\n",
    "    n_samples=1000, n_features=4, n_informative=3, n_redundant=0,\n",
    "    n_repeated=0, n_classes=2, random_state=0, shuffle=False)\n",
    "X_train, X_test, y_train, y_test = train_test_split(\n",
    "    X, y, stratify=y, random_state=42)\n",
    "from sklearn.ensemble import RandomForestClassifier\n",
    "\n",
    "feature_names = [\n",
    "\"tf-idf features\", \n",
    "\"POS-tag features\",\n",
    "\"Entity feature\",\n",
    "\"Word2vec features\"]\n",
    "\n",
    "forest = RandomForestClassifier(random_state=0)\n",
    "forest.fit(X_train, y_train)\n",
    "\n",
    "# Feature importance based on mean decrease in impurity\n",
    "import time\n",
    "import numpy as np\n",
    "\n",
    "start_time = time.time()\n",
    "importances = forest.feature_importances_\n",
    "std = np.std([tree.feature_importances_ for tree in forest.estimators_], axis=0)\n",
    "elapsed_time = time.time() - start_time\n",
    "\n",
    "# print(f\"Elapsed time to compute the importances: \"f\"{elapsed_time:.3f} seconds\")\n",
    "# plot the impurity-based importance\n",
    "import pandas as pd\n",
    "forest_importances = pd.Series(importances, index=feature_names)\n",
    "\n",
    "fig, ax = plt.subplots()\n",
    "forest_importances.plot.bar(yerr=std, ax=ax)\n",
    "ax.set_title(\"Feature importances using MDI\")\n",
    "ax.set_ylabel(\"Mean decrease in impurity\")\n",
    "fig.tight_layout()"
   ]
  },
  {
   "cell_type": "code",
   "execution_count": null,
   "metadata": {},
   "outputs": [],
   "source": []
  }
 ],
 "metadata": {
  "kernelspec": {
   "display_name": "Python 3",
   "language": "python",
   "name": "python3"
  },
  "language_info": {
   "codemirror_mode": {
    "name": "ipython",
    "version": 3
   },
   "file_extension": ".py",
   "mimetype": "text/x-python",
   "name": "python",
   "nbconvert_exporter": "python",
   "pygments_lexer": "ipython3",
   "version": "3.8.8"
  }
 },
 "nbformat": 4,
 "nbformat_minor": 2
}
